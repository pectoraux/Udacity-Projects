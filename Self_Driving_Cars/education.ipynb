{
 "cells": [
  {
   "cell_type": "markdown",
   "metadata": {},
   "source": [
    "# Potential\tcauses\tof\trepetition\tand\tdropout\tin\tPrimary\tEducation\tcovering\t      Primary\t1\t(P1)\tto\tPrimary\t6\t(P6)"
   ]
  },
  {
   "cell_type": "markdown",
   "metadata": {},
   "source": [
    "## Problem Statement\n",
    "Education at all levels has been undergoing a tremendous amount of change over the last several years. There was a time when the only way to access information was by sifting through books in a library. Today, a student can obtain an encyclopedia's worth of information with a few clicks of a mouse. Companies like Coursera, Udacity, and Khan Academy are democratizing education, while universities are rethinking the traditional approach and incorporating technology to diversify their offerings. The importance of education in today's world has become undeniable and every country and continent is trying to provide its youth with a good level of education.   \n",
    "In Rwanda however, we are assisting to a high rate of repetition and dropout especially in Primary Education. The aim of this project is to try and understand what the causes of such a phenomenon might be and then find suitable ways to attend to that problem."
   ]
  },
  {
   "cell_type": "markdown",
   "metadata": {},
   "source": [
    "## Exploring the data"
   ]
  },
  {
   "cell_type": "markdown",
   "metadata": {},
   "source": [
    "This dataset has been collected by a company in Rwanda named Laterite for a project on Primary Education for the Ministry of Education (MINEDUC).\t"
   ]
  },
  {
   "cell_type": "code",
   "execution_count": 62,
   "metadata": {},
   "outputs": [
    {
     "name": "stdout",
     "output_type": "stream",
     "text": [
      "Education data read successfully!\n"
     ]
    }
   ],
   "source": [
    "# Import libraries\n",
    "import numpy as np\n",
    "import pandas as pd\n",
    "import math\n",
    "from time import time\n",
    "from sklearn.metrics import f1_score\n",
    "\n",
    "# Read student data\n",
    "student_data = pd.read_csv(\"laterite_education_data.csv\")\n",
    "print(\"Education data read successfully!\")"
   ]
  },
  {
   "cell_type": "code",
   "execution_count": 63,
   "metadata": {},
   "outputs": [
    {
     "data": {
      "text/html": [
       "<div>\n",
       "<style scoped>\n",
       "    .dataframe tbody tr th:only-of-type {\n",
       "        vertical-align: middle;\n",
       "    }\n",
       "\n",
       "    .dataframe tbody tr th {\n",
       "        vertical-align: top;\n",
       "    }\n",
       "\n",
       "    .dataframe thead th {\n",
       "        text-align: right;\n",
       "    }\n",
       "</style>\n",
       "<table border=\"1\" class=\"dataframe\">\n",
       "  <thead>\n",
       "    <tr style=\"text-align: right;\">\n",
       "      <th></th>\n",
       "      <th>Unnamed: 0</th>\n",
       "      <th>province</th>\n",
       "      <th>district</th>\n",
       "      <th>ur2012</th>\n",
       "      <th>weight</th>\n",
       "      <th>Consumption</th>\n",
       "      <th>s1q1</th>\n",
       "      <th>s1q3y</th>\n",
       "      <th>s1q13</th>\n",
       "      <th>s1q14</th>\n",
       "      <th>...</th>\n",
       "      <th>s4aq9</th>\n",
       "      <th>s4aq11h</th>\n",
       "      <th>s4aq12</th>\n",
       "      <th>s4aq14</th>\n",
       "      <th>s4aq15</th>\n",
       "      <th>s4aq17</th>\n",
       "      <th>s4bq3</th>\n",
       "      <th>s4bq4</th>\n",
       "      <th>s4bq5</th>\n",
       "      <th>s6aq2</th>\n",
       "    </tr>\n",
       "  </thead>\n",
       "  <tbody>\n",
       "    <tr>\n",
       "      <th>0</th>\n",
       "      <td>8</td>\n",
       "      <td>Kigali City</td>\n",
       "      <td>Nyarugenge</td>\n",
       "      <td>Peri urban</td>\n",
       "      <td>28.083333</td>\n",
       "      <td>215962.0</td>\n",
       "      <td>Female</td>\n",
       "      <td>17</td>\n",
       "      <td>No</td>\n",
       "      <td>No</td>\n",
       "      <td>...</td>\n",
       "      <td>NaN</td>\n",
       "      <td>NaN</td>\n",
       "      <td>NaN</td>\n",
       "      <td>NaN</td>\n",
       "      <td>NaN</td>\n",
       "      <td>Cost</td>\n",
       "      <td>Yes</td>\n",
       "      <td>Yes</td>\n",
       "      <td>Yes</td>\n",
       "      <td>No</td>\n",
       "    </tr>\n",
       "    <tr>\n",
       "      <th>1</th>\n",
       "      <td>9</td>\n",
       "      <td>Kigali City</td>\n",
       "      <td>Nyarugenge</td>\n",
       "      <td>Peri urban</td>\n",
       "      <td>28.083333</td>\n",
       "      <td>215962.0</td>\n",
       "      <td>Male</td>\n",
       "      <td>16</td>\n",
       "      <td>Yes,but residing in onother household</td>\n",
       "      <td>Yes and resident in household</td>\n",
       "      <td>...</td>\n",
       "      <td>No problem</td>\n",
       "      <td>NaN</td>\n",
       "      <td>Mother</td>\n",
       "      <td>7.0</td>\n",
       "      <td>Holidays</td>\n",
       "      <td>NaN</td>\n",
       "      <td>Yes</td>\n",
       "      <td>Yes</td>\n",
       "      <td>Yes</td>\n",
       "      <td>No</td>\n",
       "    </tr>\n",
       "    <tr>\n",
       "      <th>2</th>\n",
       "      <td>10</td>\n",
       "      <td>Kigali City</td>\n",
       "      <td>Nyarugenge</td>\n",
       "      <td>Peri urban</td>\n",
       "      <td>28.083333</td>\n",
       "      <td>215962.0</td>\n",
       "      <td>Male</td>\n",
       "      <td>6</td>\n",
       "      <td>Yes,but residing in onother household</td>\n",
       "      <td>Yes and resident in household</td>\n",
       "      <td>...</td>\n",
       "      <td>NaN</td>\n",
       "      <td>NaN</td>\n",
       "      <td>NaN</td>\n",
       "      <td>NaN</td>\n",
       "      <td>NaN</td>\n",
       "      <td>NaN</td>\n",
       "      <td>NaN</td>\n",
       "      <td>NaN</td>\n",
       "      <td>NaN</td>\n",
       "      <td>No</td>\n",
       "    </tr>\n",
       "    <tr>\n",
       "      <th>3</th>\n",
       "      <td>11</td>\n",
       "      <td>Kigali City</td>\n",
       "      <td>Nyarugenge</td>\n",
       "      <td>Peri urban</td>\n",
       "      <td>28.083333</td>\n",
       "      <td>215962.0</td>\n",
       "      <td>Male</td>\n",
       "      <td>8</td>\n",
       "      <td>Yes,but residing in onother household</td>\n",
       "      <td>Yes and resident in household</td>\n",
       "      <td>...</td>\n",
       "      <td>NaN</td>\n",
       "      <td>NaN</td>\n",
       "      <td>NaN</td>\n",
       "      <td>NaN</td>\n",
       "      <td>NaN</td>\n",
       "      <td>NaN</td>\n",
       "      <td>NaN</td>\n",
       "      <td>NaN</td>\n",
       "      <td>NaN</td>\n",
       "      <td>No</td>\n",
       "    </tr>\n",
       "    <tr>\n",
       "      <th>4</th>\n",
       "      <td>22</td>\n",
       "      <td>Kigali City</td>\n",
       "      <td>Nyarugenge</td>\n",
       "      <td>Peri urban</td>\n",
       "      <td>28.083333</td>\n",
       "      <td>529295.5</td>\n",
       "      <td>Female</td>\n",
       "      <td>17</td>\n",
       "      <td>No</td>\n",
       "      <td>Yes and resident in household</td>\n",
       "      <td>...</td>\n",
       "      <td>Not enough teachers</td>\n",
       "      <td>NaN</td>\n",
       "      <td>Mother</td>\n",
       "      <td>7.0</td>\n",
       "      <td>Holidays</td>\n",
       "      <td>NaN</td>\n",
       "      <td>Yes</td>\n",
       "      <td>Yes</td>\n",
       "      <td>Yes</td>\n",
       "      <td>No</td>\n",
       "    </tr>\n",
       "  </tbody>\n",
       "</table>\n",
       "<p>5 rows × 24 columns</p>\n",
       "</div>"
      ],
      "text/plain": [
       "   Unnamed: 0     province    district      ur2012     weight  Consumption  \\\n",
       "0           8  Kigali City  Nyarugenge  Peri urban  28.083333     215962.0   \n",
       "1           9  Kigali City  Nyarugenge  Peri urban  28.083333     215962.0   \n",
       "2          10  Kigali City  Nyarugenge  Peri urban  28.083333     215962.0   \n",
       "3          11  Kigali City  Nyarugenge  Peri urban  28.083333     215962.0   \n",
       "4          22  Kigali City  Nyarugenge  Peri urban  28.083333     529295.5   \n",
       "\n",
       "     s1q1  s1q3y                                  s1q13  \\\n",
       "0  Female     17                                     No   \n",
       "1    Male     16  Yes,but residing in onother household   \n",
       "2    Male      6  Yes,but residing in onother household   \n",
       "3    Male      8  Yes,but residing in onother household   \n",
       "4  Female     17                                     No   \n",
       "\n",
       "                           s1q14  ...                 s4aq9 s4aq11h  s4aq12  \\\n",
       "0                             No  ...                   NaN     NaN     NaN   \n",
       "1  Yes and resident in household  ...            No problem     NaN  Mother   \n",
       "2  Yes and resident in household  ...                   NaN     NaN     NaN   \n",
       "3  Yes and resident in household  ...                   NaN     NaN     NaN   \n",
       "4  Yes and resident in household  ...   Not enough teachers     NaN  Mother   \n",
       "\n",
       "  s4aq14    s4aq15 s4aq17 s4bq3  s4bq4 s4bq5 s6aq2  \n",
       "0    NaN       NaN   Cost   Yes    Yes   Yes    No  \n",
       "1    7.0  Holidays    NaN   Yes    Yes   Yes    No  \n",
       "2    NaN       NaN    NaN   NaN    NaN   NaN    No  \n",
       "3    NaN       NaN    NaN   NaN    NaN   NaN    No  \n",
       "4    7.0  Holidays    NaN   Yes    Yes   Yes    No  \n",
       "\n",
       "[5 rows x 24 columns]"
      ]
     },
     "execution_count": 63,
     "metadata": {},
     "output_type": "execute_result"
    }
   ],
   "source": [
    "student_data.head(5)"
   ]
  },
  {
   "cell_type": "code",
   "execution_count": 64,
   "metadata": {},
   "outputs": [],
   "source": [
    "del student_data['Unnamed: 0']  # Delete the first column"
   ]
  },
  {
   "cell_type": "markdown",
   "metadata": {},
   "source": [
    "# Preparing the data\n",
    "### Renaming columns\n",
    "The columns' names of the dataset are not very intuitive so they need to be renamed to much more intuitive names"
   ]
  },
  {
   "cell_type": "code",
   "execution_count": 65,
   "metadata": {
    "scrolled": true
   },
   "outputs": [],
   "source": [
    "column_names = ['province', 'district', 'sector', 'weight', 'Consumption', 'sex', 'age', 'living_father', 'living_mother', 'health_problem', 'grade_2012', 'grade_2013', 'school', 'school_problem', 'edu_expenses', 'guardian', 'missed_school_count', 'reason_missed', 'reason_leave', 'can_read',  'can_write', 'can_calculate', 'farm_worker']\n",
    "student_data.columns = column_names"
   ]
  },
  {
   "cell_type": "markdown",
   "metadata": {},
   "source": [
    "To get more sense of the meaning of each variable, please take a look at the variables dictionary attached with this project."
   ]
  },
  {
   "cell_type": "code",
   "execution_count": 66,
   "metadata": {},
   "outputs": [
    {
     "data": {
      "text/plain": [
       "Index([u'province', u'district', u'sector', u'weight', u'Consumption', u'sex',\n",
       "       u'age', u'living_father', u'living_mother', u'health_problem',\n",
       "       u'grade_2012', u'grade_2013', u'school', u'school_problem',\n",
       "       u'edu_expenses', u'guardian', u'missed_school_count', u'reason_missed',\n",
       "       u'reason_leave', u'can_read', u'can_write', u'can_calculate',\n",
       "       u'farm_worker'],\n",
       "      dtype='object')"
      ]
     },
     "execution_count": 66,
     "metadata": {},
     "output_type": "execute_result"
    }
   ],
   "source": [
    "student_data.columns"
   ]
  },
  {
   "cell_type": "code",
   "execution_count": 420,
   "metadata": {},
   "outputs": [
    {
     "data": {
      "text/html": [
       "<div>\n",
       "<style scoped>\n",
       "    .dataframe tbody tr th:only-of-type {\n",
       "        vertical-align: middle;\n",
       "    }\n",
       "\n",
       "    .dataframe tbody tr th {\n",
       "        vertical-align: top;\n",
       "    }\n",
       "\n",
       "    .dataframe thead th {\n",
       "        text-align: right;\n",
       "    }\n",
       "</style>\n",
       "<table border=\"1\" class=\"dataframe\">\n",
       "  <thead>\n",
       "    <tr style=\"text-align: right;\">\n",
       "      <th></th>\n",
       "      <th>province</th>\n",
       "      <th>district</th>\n",
       "      <th>sector</th>\n",
       "      <th>weight</th>\n",
       "      <th>Consumption</th>\n",
       "      <th>sex</th>\n",
       "      <th>age</th>\n",
       "      <th>living_father</th>\n",
       "      <th>living_mother</th>\n",
       "      <th>health_problem</th>\n",
       "      <th>...</th>\n",
       "      <th>school_problem</th>\n",
       "      <th>edu_expenses</th>\n",
       "      <th>guardian</th>\n",
       "      <th>missed_school_count</th>\n",
       "      <th>reason_missed</th>\n",
       "      <th>reason_leave</th>\n",
       "      <th>can_read</th>\n",
       "      <th>can_write</th>\n",
       "      <th>can_calculate</th>\n",
       "      <th>farm_worker</th>\n",
       "    </tr>\n",
       "  </thead>\n",
       "  <tbody>\n",
       "    <tr>\n",
       "      <th>0</th>\n",
       "      <td>Kigali City</td>\n",
       "      <td>Nyarugenge</td>\n",
       "      <td>Peri urban</td>\n",
       "      <td>28.083333</td>\n",
       "      <td>215962.0</td>\n",
       "      <td>Female</td>\n",
       "      <td>17</td>\n",
       "      <td>No</td>\n",
       "      <td>No</td>\n",
       "      <td>No</td>\n",
       "      <td>...</td>\n",
       "      <td>NaN</td>\n",
       "      <td>NaN</td>\n",
       "      <td>NaN</td>\n",
       "      <td>NaN</td>\n",
       "      <td>NaN</td>\n",
       "      <td>Cost</td>\n",
       "      <td>Yes</td>\n",
       "      <td>Yes</td>\n",
       "      <td>Yes</td>\n",
       "      <td>No</td>\n",
       "    </tr>\n",
       "    <tr>\n",
       "      <th>1</th>\n",
       "      <td>Kigali City</td>\n",
       "      <td>Nyarugenge</td>\n",
       "      <td>Peri urban</td>\n",
       "      <td>28.083333</td>\n",
       "      <td>215962.0</td>\n",
       "      <td>Male</td>\n",
       "      <td>16</td>\n",
       "      <td>Yes,but residing in onother household</td>\n",
       "      <td>Yes and resident in household</td>\n",
       "      <td>No</td>\n",
       "      <td>...</td>\n",
       "      <td>No problem</td>\n",
       "      <td>NaN</td>\n",
       "      <td>Mother</td>\n",
       "      <td>7.0</td>\n",
       "      <td>Holidays</td>\n",
       "      <td>NaN</td>\n",
       "      <td>Yes</td>\n",
       "      <td>Yes</td>\n",
       "      <td>Yes</td>\n",
       "      <td>No</td>\n",
       "    </tr>\n",
       "    <tr>\n",
       "      <th>2</th>\n",
       "      <td>Kigali City</td>\n",
       "      <td>Nyarugenge</td>\n",
       "      <td>Peri urban</td>\n",
       "      <td>28.083333</td>\n",
       "      <td>215962.0</td>\n",
       "      <td>Male</td>\n",
       "      <td>6</td>\n",
       "      <td>Yes,but residing in onother household</td>\n",
       "      <td>Yes and resident in household</td>\n",
       "      <td>No</td>\n",
       "      <td>...</td>\n",
       "      <td>NaN</td>\n",
       "      <td>NaN</td>\n",
       "      <td>NaN</td>\n",
       "      <td>NaN</td>\n",
       "      <td>NaN</td>\n",
       "      <td>NaN</td>\n",
       "      <td>NaN</td>\n",
       "      <td>NaN</td>\n",
       "      <td>NaN</td>\n",
       "      <td>No</td>\n",
       "    </tr>\n",
       "    <tr>\n",
       "      <th>3</th>\n",
       "      <td>Kigali City</td>\n",
       "      <td>Nyarugenge</td>\n",
       "      <td>Peri urban</td>\n",
       "      <td>28.083333</td>\n",
       "      <td>215962.0</td>\n",
       "      <td>Male</td>\n",
       "      <td>8</td>\n",
       "      <td>Yes,but residing in onother household</td>\n",
       "      <td>Yes and resident in household</td>\n",
       "      <td>No</td>\n",
       "      <td>...</td>\n",
       "      <td>NaN</td>\n",
       "      <td>NaN</td>\n",
       "      <td>NaN</td>\n",
       "      <td>NaN</td>\n",
       "      <td>NaN</td>\n",
       "      <td>NaN</td>\n",
       "      <td>NaN</td>\n",
       "      <td>NaN</td>\n",
       "      <td>NaN</td>\n",
       "      <td>No</td>\n",
       "    </tr>\n",
       "    <tr>\n",
       "      <th>4</th>\n",
       "      <td>Kigali City</td>\n",
       "      <td>Nyarugenge</td>\n",
       "      <td>Peri urban</td>\n",
       "      <td>28.083333</td>\n",
       "      <td>529295.5</td>\n",
       "      <td>Female</td>\n",
       "      <td>17</td>\n",
       "      <td>No</td>\n",
       "      <td>Yes and resident in household</td>\n",
       "      <td>No</td>\n",
       "      <td>...</td>\n",
       "      <td>Not enough teachers</td>\n",
       "      <td>NaN</td>\n",
       "      <td>Mother</td>\n",
       "      <td>7.0</td>\n",
       "      <td>Holidays</td>\n",
       "      <td>NaN</td>\n",
       "      <td>Yes</td>\n",
       "      <td>Yes</td>\n",
       "      <td>Yes</td>\n",
       "      <td>No</td>\n",
       "    </tr>\n",
       "  </tbody>\n",
       "</table>\n",
       "<p>5 rows × 23 columns</p>\n",
       "</div>"
      ],
      "text/plain": [
       "      province    district      sector     weight  Consumption     sex  age  \\\n",
       "0  Kigali City  Nyarugenge  Peri urban  28.083333     215962.0  Female   17   \n",
       "1  Kigali City  Nyarugenge  Peri urban  28.083333     215962.0    Male   16   \n",
       "2  Kigali City  Nyarugenge  Peri urban  28.083333     215962.0    Male    6   \n",
       "3  Kigali City  Nyarugenge  Peri urban  28.083333     215962.0    Male    8   \n",
       "4  Kigali City  Nyarugenge  Peri urban  28.083333     529295.5  Female   17   \n",
       "\n",
       "                           living_father                  living_mother  \\\n",
       "0                                     No                             No   \n",
       "1  Yes,but residing in onother household  Yes and resident in household   \n",
       "2  Yes,but residing in onother household  Yes and resident in household   \n",
       "3  Yes,but residing in onother household  Yes and resident in household   \n",
       "4                                     No  Yes and resident in household   \n",
       "\n",
       "  health_problem     ...           school_problem edu_expenses guardian  \\\n",
       "0             No     ...                      NaN          NaN      NaN   \n",
       "1             No     ...               No problem          NaN   Mother   \n",
       "2             No     ...                      NaN          NaN      NaN   \n",
       "3             No     ...                      NaN          NaN      NaN   \n",
       "4             No     ...      Not enough teachers          NaN   Mother   \n",
       "\n",
       "  missed_school_count reason_missed reason_leave  can_read can_write  \\\n",
       "0                 NaN           NaN         Cost       Yes       Yes   \n",
       "1                 7.0      Holidays          NaN       Yes       Yes   \n",
       "2                 NaN           NaN          NaN       NaN       NaN   \n",
       "3                 NaN           NaN          NaN       NaN       NaN   \n",
       "4                 7.0      Holidays          NaN       Yes       Yes   \n",
       "\n",
       "  can_calculate farm_worker  \n",
       "0           Yes          No  \n",
       "1           Yes          No  \n",
       "2           NaN          No  \n",
       "3           NaN          No  \n",
       "4           Yes          No  \n",
       "\n",
       "[5 rows x 23 columns]"
      ]
     },
     "execution_count": 420,
     "metadata": {},
     "output_type": "execute_result"
    }
   ],
   "source": [
    "student_data.head()"
   ]
  },
  {
   "cell_type": "code",
   "execution_count": 143,
   "metadata": {},
   "outputs": [
    {
     "data": {
      "text/plain": [
       "3799"
      ]
     },
     "execution_count": 143,
     "metadata": {},
     "output_type": "execute_result"
    }
   ],
   "source": [
    "# The number of observations in the dataset is 3799\n",
    "len(student_data)"
   ]
  },
  {
   "cell_type": "markdown",
   "metadata": {},
   "source": [
    "### Number of students in each class in 2012"
   ]
  },
  {
   "cell_type": "code",
   "execution_count": 68,
   "metadata": {},
   "outputs": [
    {
     "data": {
      "text/plain": [
       "grade_2012\n",
       "Not in class      742\n",
       "Primary 1         686\n",
       "Primary 2         470\n",
       "Primary 3         392\n",
       "Primary 4         305\n",
       "Primary 5         260\n",
       "Pre-primary       170\n",
       "Primary 6,7,8     147\n",
       "Secondary 1        86\n",
       "Secondary 2        53\n",
       "Secondary 3        17\n",
       "Secondary 4         6\n",
       "Post primary 1      5\n",
       "Post primary 3      2\n",
       "Secondary 5         1\n",
       "Post primary 5      1\n",
       "Post primary 4      1\n",
       "Secondary 6         1\n",
       "dtype: int64"
      ]
     },
     "execution_count": 68,
     "metadata": {},
     "output_type": "execute_result"
    }
   ],
   "source": [
    "student_data.groupby('grade_2012').size().sort_values(ascending=False)"
   ]
  },
  {
   "cell_type": "markdown",
   "metadata": {},
   "source": [
    "### Number of students in each class in 2013"
   ]
  },
  {
   "cell_type": "code",
   "execution_count": 69,
   "metadata": {},
   "outputs": [
    {
     "data": {
      "text/plain": [
       "grade_2013\n",
       "Primary 1             718\n",
       "Primary 2             518\n",
       "Not in class          498\n",
       "Primary 3             411\n",
       "Primary 4             359\n",
       "Primary 5             295\n",
       "Primary 6,7,8         187\n",
       "Secondary 1           112\n",
       "Secondary 2            88\n",
       "Pre-primary            82\n",
       "Secondary 3            43\n",
       "Secondary 4            15\n",
       "Secondary 5             6\n",
       "Post primary 1          5\n",
       "Post primary 2          4\n",
       "Post primary 6,7,8      1\n",
       "Post primary 5          1\n",
       "Post primary 4          1\n",
       "Secondary 6             1\n",
       "dtype: int64"
      ]
     },
     "execution_count": 69,
     "metadata": {},
     "output_type": "execute_result"
    }
   ],
   "source": [
    "student_data.groupby('grade_2013').size().sort_values(ascending=False)"
   ]
  },
  {
   "cell_type": "code",
   "execution_count": 196,
   "metadata": {},
   "outputs": [],
   "source": [
    "in_school_2012 = student_data.index[(student_data['grade_2012'] != 'Not in class')]"
   ]
  },
  {
   "cell_type": "markdown",
   "metadata": {},
   "source": [
    "## Computing Dummy Variables\n",
    "Let's create dummy variables for grade repetition and dropout outcomes and call them “repeated” and “dropout”.\n",
    "\n",
    "** Grade repetition is\tdefined\tas:\tBeing\tin\tschool\tin\t2012\tand\t2013,\tand\tbeing\tin\tthe\tsame\tgrade\tin\t2012\tand\t2013.\n",
    "\n",
    "** Dropout\tis\tdefined\tas:\tBeing\tin\tschool\tin\t2012\tbut\tleaving\tschool\tin\t2013\twithout\tcompleting\tsecondary\tschool."
   ]
  },
  {
   "cell_type": "code",
   "execution_count": 146,
   "metadata": {},
   "outputs": [],
   "source": [
    "repeated = []\n",
    "t = -1\n",
    "for i in student_data['grade_2012']:\n",
    "    t += 1\n",
    "    try:\n",
    "        np.isnan(np.array(i))\n",
    "        repeated.append(0)\n",
    "    except:\n",
    "        if i == 'Not in class':\n",
    "            repeated.append(0)\n",
    "        elif i == student_data['grade_2013'][t]:\n",
    "            repeated.append(1)\n",
    "        else:\n",
    "            repeated.append(0)"
   ]
  },
  {
   "cell_type": "code",
   "execution_count": 150,
   "metadata": {},
   "outputs": [],
   "source": [
    "dropout = []\n",
    "t = -1\n",
    "for i in student_data['grade_2013']:\n",
    "    t += 1\n",
    "    try:\n",
    "        np.isnan(np.array(i))\n",
    "        dropout.append(0)\n",
    "    except:\n",
    "        try:\n",
    "            np.isnan(np.array(student_data['grade_2012'][t]))\n",
    "            dropout.append(0)\n",
    "        except:\n",
    "            if i == 'Not in class' and student_data['grade_2012'][t] != 'Not in class': \n",
    "                dropout.append(1)\n",
    "            else:\n",
    "                dropout.append(0)"
   ]
  },
  {
   "cell_type": "markdown",
   "metadata": {},
   "source": [
    "### Overall Dropout rate"
   ]
  },
  {
   "cell_type": "code",
   "execution_count": 156,
   "metadata": {},
   "outputs": [
    {
     "data": {
      "text/plain": [
       "3.395630429060279"
      ]
     },
     "execution_count": 156,
     "metadata": {},
     "output_type": "execute_result"
    }
   ],
   "source": [
    "# Dropout rate in percent\n",
    "np.mean(dropout)*100"
   ]
  },
  {
   "cell_type": "markdown",
   "metadata": {},
   "source": [
    "### Overall Repetition rate"
   ]
  },
  {
   "cell_type": "code",
   "execution_count": 157,
   "metadata": {},
   "outputs": [
    {
     "data": {
      "text/plain": [
       "15.31982100552777"
      ]
     },
     "execution_count": 157,
     "metadata": {},
     "output_type": "execute_result"
    }
   ],
   "source": [
    "# Repetition rate in percent\n",
    "np.mean(repeated)*100"
   ]
  },
  {
   "cell_type": "markdown",
   "metadata": {},
   "source": [
    "### Adding the dummy variables to the original dataset"
   ]
  },
  {
   "cell_type": "code",
   "execution_count": 261,
   "metadata": {},
   "outputs": [],
   "source": [
    "mat1 = pd.DataFrame(np.array(repeated), columns=['repeated'])\n",
    "mat2 = pd.DataFrame(np.array(dropout), columns=['dropout'])"
   ]
  },
  {
   "cell_type": "code",
   "execution_count": 422,
   "metadata": {},
   "outputs": [
    {
     "data": {
      "text/html": [
       "<div>\n",
       "<style scoped>\n",
       "    .dataframe tbody tr th:only-of-type {\n",
       "        vertical-align: middle;\n",
       "    }\n",
       "\n",
       "    .dataframe tbody tr th {\n",
       "        vertical-align: top;\n",
       "    }\n",
       "\n",
       "    .dataframe thead th {\n",
       "        text-align: right;\n",
       "    }\n",
       "</style>\n",
       "<table border=\"1\" class=\"dataframe\">\n",
       "  <thead>\n",
       "    <tr style=\"text-align: right;\">\n",
       "      <th></th>\n",
       "      <th>province</th>\n",
       "      <th>district</th>\n",
       "      <th>sector</th>\n",
       "      <th>weight</th>\n",
       "      <th>Consumption</th>\n",
       "      <th>sex</th>\n",
       "      <th>age</th>\n",
       "      <th>living_father</th>\n",
       "      <th>living_mother</th>\n",
       "      <th>health_problem</th>\n",
       "      <th>...</th>\n",
       "      <th>guardian</th>\n",
       "      <th>missed_school_count</th>\n",
       "      <th>reason_missed</th>\n",
       "      <th>reason_leave</th>\n",
       "      <th>can_read</th>\n",
       "      <th>can_write</th>\n",
       "      <th>can_calculate</th>\n",
       "      <th>farm_worker</th>\n",
       "      <th>repeated</th>\n",
       "      <th>dropout</th>\n",
       "    </tr>\n",
       "  </thead>\n",
       "  <tbody>\n",
       "    <tr>\n",
       "      <th>0</th>\n",
       "      <td>Kigali City</td>\n",
       "      <td>Nyarugenge</td>\n",
       "      <td>Peri urban</td>\n",
       "      <td>28.083333</td>\n",
       "      <td>215962.0</td>\n",
       "      <td>Female</td>\n",
       "      <td>17</td>\n",
       "      <td>No</td>\n",
       "      <td>No</td>\n",
       "      <td>No</td>\n",
       "      <td>...</td>\n",
       "      <td>NaN</td>\n",
       "      <td>NaN</td>\n",
       "      <td>NaN</td>\n",
       "      <td>Cost</td>\n",
       "      <td>Yes</td>\n",
       "      <td>Yes</td>\n",
       "      <td>Yes</td>\n",
       "      <td>No</td>\n",
       "      <td>0</td>\n",
       "      <td>0</td>\n",
       "    </tr>\n",
       "    <tr>\n",
       "      <th>1</th>\n",
       "      <td>Kigali City</td>\n",
       "      <td>Nyarugenge</td>\n",
       "      <td>Peri urban</td>\n",
       "      <td>28.083333</td>\n",
       "      <td>215962.0</td>\n",
       "      <td>Male</td>\n",
       "      <td>16</td>\n",
       "      <td>Yes,but residing in onother household</td>\n",
       "      <td>Yes and resident in household</td>\n",
       "      <td>No</td>\n",
       "      <td>...</td>\n",
       "      <td>Mother</td>\n",
       "      <td>7.0</td>\n",
       "      <td>Holidays</td>\n",
       "      <td>NaN</td>\n",
       "      <td>Yes</td>\n",
       "      <td>Yes</td>\n",
       "      <td>Yes</td>\n",
       "      <td>No</td>\n",
       "      <td>1</td>\n",
       "      <td>0</td>\n",
       "    </tr>\n",
       "    <tr>\n",
       "      <th>2</th>\n",
       "      <td>Kigali City</td>\n",
       "      <td>Nyarugenge</td>\n",
       "      <td>Peri urban</td>\n",
       "      <td>28.083333</td>\n",
       "      <td>215962.0</td>\n",
       "      <td>Male</td>\n",
       "      <td>6</td>\n",
       "      <td>Yes,but residing in onother household</td>\n",
       "      <td>Yes and resident in household</td>\n",
       "      <td>No</td>\n",
       "      <td>...</td>\n",
       "      <td>NaN</td>\n",
       "      <td>NaN</td>\n",
       "      <td>NaN</td>\n",
       "      <td>NaN</td>\n",
       "      <td>NaN</td>\n",
       "      <td>NaN</td>\n",
       "      <td>NaN</td>\n",
       "      <td>No</td>\n",
       "      <td>0</td>\n",
       "      <td>0</td>\n",
       "    </tr>\n",
       "    <tr>\n",
       "      <th>3</th>\n",
       "      <td>Kigali City</td>\n",
       "      <td>Nyarugenge</td>\n",
       "      <td>Peri urban</td>\n",
       "      <td>28.083333</td>\n",
       "      <td>215962.0</td>\n",
       "      <td>Male</td>\n",
       "      <td>8</td>\n",
       "      <td>Yes,but residing in onother household</td>\n",
       "      <td>Yes and resident in household</td>\n",
       "      <td>No</td>\n",
       "      <td>...</td>\n",
       "      <td>NaN</td>\n",
       "      <td>NaN</td>\n",
       "      <td>NaN</td>\n",
       "      <td>NaN</td>\n",
       "      <td>NaN</td>\n",
       "      <td>NaN</td>\n",
       "      <td>NaN</td>\n",
       "      <td>No</td>\n",
       "      <td>0</td>\n",
       "      <td>0</td>\n",
       "    </tr>\n",
       "    <tr>\n",
       "      <th>4</th>\n",
       "      <td>Kigali City</td>\n",
       "      <td>Nyarugenge</td>\n",
       "      <td>Peri urban</td>\n",
       "      <td>28.083333</td>\n",
       "      <td>529295.5</td>\n",
       "      <td>Female</td>\n",
       "      <td>17</td>\n",
       "      <td>No</td>\n",
       "      <td>Yes and resident in household</td>\n",
       "      <td>No</td>\n",
       "      <td>...</td>\n",
       "      <td>Mother</td>\n",
       "      <td>7.0</td>\n",
       "      <td>Holidays</td>\n",
       "      <td>NaN</td>\n",
       "      <td>Yes</td>\n",
       "      <td>Yes</td>\n",
       "      <td>Yes</td>\n",
       "      <td>No</td>\n",
       "      <td>0</td>\n",
       "      <td>0</td>\n",
       "    </tr>\n",
       "  </tbody>\n",
       "</table>\n",
       "<p>5 rows × 25 columns</p>\n",
       "</div>"
      ],
      "text/plain": [
       "      province    district      sector     weight  Consumption     sex  age  \\\n",
       "0  Kigali City  Nyarugenge  Peri urban  28.083333     215962.0  Female   17   \n",
       "1  Kigali City  Nyarugenge  Peri urban  28.083333     215962.0    Male   16   \n",
       "2  Kigali City  Nyarugenge  Peri urban  28.083333     215962.0    Male    6   \n",
       "3  Kigali City  Nyarugenge  Peri urban  28.083333     215962.0    Male    8   \n",
       "4  Kigali City  Nyarugenge  Peri urban  28.083333     529295.5  Female   17   \n",
       "\n",
       "                           living_father                  living_mother  \\\n",
       "0                                     No                             No   \n",
       "1  Yes,but residing in onother household  Yes and resident in household   \n",
       "2  Yes,but residing in onother household  Yes and resident in household   \n",
       "3  Yes,but residing in onother household  Yes and resident in household   \n",
       "4                                     No  Yes and resident in household   \n",
       "\n",
       "  health_problem   ...   guardian missed_school_count reason_missed  \\\n",
       "0             No   ...        NaN                 NaN           NaN   \n",
       "1             No   ...     Mother                 7.0      Holidays   \n",
       "2             No   ...        NaN                 NaN           NaN   \n",
       "3             No   ...        NaN                 NaN           NaN   \n",
       "4             No   ...     Mother                 7.0      Holidays   \n",
       "\n",
       "  reason_leave can_read can_write  can_calculate farm_worker repeated dropout  \n",
       "0         Cost      Yes       Yes            Yes          No        0       0  \n",
       "1          NaN      Yes       Yes            Yes          No        1       0  \n",
       "2          NaN      NaN       NaN            NaN          No        0       0  \n",
       "3          NaN      NaN       NaN            NaN          No        0       0  \n",
       "4          NaN      Yes       Yes            Yes          No        0       0  \n",
       "\n",
       "[5 rows x 25 columns]"
      ]
     },
     "execution_count": 422,
     "metadata": {},
     "output_type": "execute_result"
    }
   ],
   "source": [
    "df = student_data.join(mat1)\n",
    "df = df.join(mat2)\n",
    "df.head(5)"
   ]
  },
  {
   "cell_type": "markdown",
   "metadata": {},
   "source": [
    "# Grade repetition vs Grade in Primary Education\n",
    "Let's take a look at how grade repetition varies by grade in the Primary Education in Rwanda  \n",
    "\n",
    "## Plot of Students in class in primary"
   ]
  },
  {
   "cell_type": "code",
   "execution_count": 282,
   "metadata": {},
   "outputs": [],
   "source": [
    "indices = filter(lambda x:str(df.loc[x]['grade_2012']).startswith(\"Prima\"), df.index)\n",
    "df1 = df.loc[indices]\n",
    "indices = filter(lambda x:str(df.loc[x]['grade_2012']).startswith(\"Prima\") and df.loc[x]['repeated'], df.index)\n",
    "df1_repeated = df.loc[indices]\n",
    "indices = filter(lambda x:str(df.loc[x]['grade_2012']).startswith(\"Prima\") and df.loc[x]['dropout'], df.index)\n",
    "df1_dropout = df.loc[indices]"
   ]
  },
  {
   "cell_type": "code",
   "execution_count": 269,
   "metadata": {},
   "outputs": [
    {
     "data": {
      "text/plain": [
       "<matplotlib.axes._subplots.AxesSubplot at 0x13183ba8>"
      ]
     },
     "execution_count": 269,
     "metadata": {},
     "output_type": "execute_result"
    },
    {
     "data": {
      "image/png": "[encoded data removed]",
      "text/plain": [
       "<matplotlib.figure.Figure at 0x13198278>"
      ]
     },
     "metadata": {},
     "output_type": "display_data"
    }
   ],
   "source": [
    "%matplotlib inline\n",
    "df1.groupby('grade_2012').size().sort_values(ascending=False).plot.bar()"
   ]
  },
  {
   "cell_type": "markdown",
   "metadata": {},
   "source": [
    "### The plot above is showing how many students there are in Primary1 Primary2, etc.  Its purpose is to allow us to see the proportion of students that repeat or dropout in Primary school when we compare it to the 2 plots below which show the number of repeats and dropout in primary."
   ]
  },
  {
   "cell_type": "markdown",
   "metadata": {},
   "source": [
    "## Plot of Repeats in primary"
   ]
  },
  {
   "cell_type": "code",
   "execution_count": 270,
   "metadata": {},
   "outputs": [
    {
     "data": {
      "text/plain": [
       "<matplotlib.axes._subplots.AxesSubplot at 0x12f90eb8>"
      ]
     },
     "execution_count": 270,
     "metadata": {},
     "output_type": "execute_result"
    },
    {
     "data": {
      "image/png": "[encoded data removed]",
      "text/plain": [
       "<matplotlib.figure.Figure at 0x116426d8>"
      ]
     },
     "metadata": {},
     "output_type": "display_data"
    }
   ],
   "source": [
    "df1_repeated.groupby('grade_2012').size().sort_values(ascending=False).plot.bar()"
   ]
  },
  {
   "cell_type": "markdown",
   "metadata": {},
   "source": [
    "### We can notice from the plot above that about a third of students from each primary school class repeats "
   ]
  },
  {
   "cell_type": "markdown",
   "metadata": {},
   "source": [
    "## Plot of Dropout in primary"
   ]
  },
  {
   "cell_type": "code",
   "execution_count": 271,
   "metadata": {},
   "outputs": [
    {
     "data": {
      "text/plain": [
       "<matplotlib.axes._subplots.AxesSubplot at 0x12f90438>"
      ]
     },
     "execution_count": 271,
     "metadata": {},
     "output_type": "execute_result"
    },
    {
     "data": {
      "image/png": "[encoded data removed]",
      "text/plain": [
       "<matplotlib.figure.Figure at 0x1356c550>"
      ]
     },
     "metadata": {},
     "output_type": "display_data"
    }
   ],
   "source": [
    "df1_dropout.groupby('grade_2012').size().sort_values(ascending=False).plot.bar()"
   ]
  },
  {
   "cell_type": "markdown",
   "metadata": {},
   "source": [
    "### The plot above shows us that very few students dropout as compared to the number of students that repeat or the total number of students. For primary 1 it is a little above 25 here"
   ]
  },
  {
   "cell_type": "markdown",
   "metadata": {},
   "source": [
    "## Dropout rates by gender"
   ]
  },
  {
   "cell_type": "code",
   "execution_count": 309,
   "metadata": {},
   "outputs": [],
   "source": [
    "# Male dropouts\n",
    "indices = filter(lambda x: df1['sex'][x].strip().lower() == 'male' and df1.loc[x]['dropout'], df1.index)\n",
    "df1_dropout_male = df1.loc[indices]\n",
    "\n",
    "# Female dropouts\n",
    "indices = filter(lambda x: df1['sex'][x].strip().lower() == 'female' and df1.loc[x]['dropout'], df1.index)\n",
    "df1_dropout_female = df1.loc[indices]"
   ]
  },
  {
   "cell_type": "code",
   "execution_count": 310,
   "metadata": {},
   "outputs": [
    {
     "data": {
      "text/plain": [
       "2.6106194690265485"
      ]
     },
     "execution_count": 310,
     "metadata": {},
     "output_type": "execute_result"
    }
   ],
   "source": [
    "# Male dropouts\n",
    "# df_dropout_male.describe()\n",
    "float(df1_dropout_male.shape[0])*100/df1.shape[0]"
   ]
  },
  {
   "cell_type": "code",
   "execution_count": 311,
   "metadata": {},
   "outputs": [
    {
     "data": {
      "text/plain": [
       "2.566371681415929"
      ]
     },
     "execution_count": 311,
     "metadata": {},
     "output_type": "execute_result"
    }
   ],
   "source": [
    "# Female dropouts\n",
    "# df_dropout_female.describe()\n",
    "float(df1_dropout_female.shape[0])*100/df1.shape[0]"
   ]
  },
  {
   "cell_type": "markdown",
   "metadata": {},
   "source": [
    "### As we can see there seems to be a difference in the dropout rates by\tgender\tfor\tthe\tpopulation\tof\tstudents\tin\tPrimary\tEducation\tin\t2012 but is that difference statistically significant ? Let's find out"
   ]
  },
  {
   "cell_type": "markdown",
   "metadata": {},
   "source": [
    "## Plot of Dropout of males in primary"
   ]
  },
  {
   "cell_type": "code",
   "execution_count": 312,
   "metadata": {},
   "outputs": [
    {
     "data": {
      "text/plain": [
       "<matplotlib.axes._subplots.AxesSubplot at 0x145dc710>"
      ]
     },
     "execution_count": 312,
     "metadata": {},
     "output_type": "execute_result"
    },
    {
     "data": {
      "image/png": "[encoded data removed]",
      "text/plain": [
       "<matplotlib.figure.Figure at 0x145d6f60>"
      ]
     },
     "metadata": {},
     "output_type": "display_data"
    }
   ],
   "source": [
    "%matplotlib inline\n",
    "df1_dropout_male.groupby('grade_2012').size().sort_values(ascending=False).plot.bar()"
   ]
  },
  {
   "cell_type": "markdown",
   "metadata": {},
   "source": [
    "## Plot of Dropout of females in primary"
   ]
  },
  {
   "cell_type": "code",
   "execution_count": 313,
   "metadata": {},
   "outputs": [
    {
     "data": {
      "text/plain": [
       "<matplotlib.axes._subplots.AxesSubplot at 0x145dd710>"
      ]
     },
     "execution_count": 313,
     "metadata": {},
     "output_type": "execute_result"
    },
    {
     "data": {
      "image/png": "[encoded data removed]",
      "text/plain": [
       "<matplotlib.figure.Figure at 0x145d67f0>"
      ]
     },
     "metadata": {},
     "output_type": "display_data"
    }
   ],
   "source": [
    "%matplotlib inline\n",
    "df1_dropout_female.groupby('grade_2012').size().sort_values(ascending=False).plot.bar()"
   ]
  },
  {
   "cell_type": "markdown",
   "metadata": {},
   "source": [
    "### Assuming a significance level of 0.05, let's compute the t-test statistic and p-value"
   ]
  },
  {
   "cell_type": "code",
   "execution_count": 318,
   "metadata": {},
   "outputs": [],
   "source": [
    "indices = filter(lambda x: df1['sex'][x].strip().lower() == 'male', df1.index)\n",
    "df1_males = df1.loc[indices]\n",
    "\n",
    "indices = filter(lambda x: df1['sex'][x].strip().lower() == 'female', df1.index)\n",
    "df1_females = df1.loc[indices]"
   ]
  },
  {
   "cell_type": "code",
   "execution_count": 323,
   "metadata": {},
   "outputs": [
    {
     "data": {
      "text/plain": [
       "Ttest_indResult(statistic=0.37998202037533024, pvalue=0.7039944980872941)"
      ]
     },
     "execution_count": 323,
     "metadata": {},
     "output_type": "execute_result"
    }
   ],
   "source": [
    "# Let's assume a significance level of 0.05\n",
    "import scipy\n",
    "from scipy import stats\n",
    "scipy.stats.ttest_ind(df1_males['dropout'], df1_females['dropout'])"
   ]
  },
  {
   "cell_type": "markdown",
   "metadata": {},
   "source": [
    "### Since the pvalue here is much greater than 0.05 (or 5 percent), it can be concluded that there is no difference between the two populations (male and female primary school students). \n",
    "### Another way of viewing this is : to say that there is a difference is taking a 70.4 percent risk of being wrong since we have a pvalue of 0.704"
   ]
  },
  {
   "cell_type": "markdown",
   "metadata": {},
   "source": [
    "# Good Predictors\n",
    "Let's now try and find out the variables in our dataset that can be good predictors of whether a student would repeat the same grade in 2012 and 2013"
   ]
  },
  {
   "cell_type": "markdown",
   "metadata": {},
   "source": [
    "### Plot by sector  -  just curious :) "
   ]
  },
  {
   "cell_type": "code",
   "execution_count": 364,
   "metadata": {},
   "outputs": [
    {
     "data": {
      "text/plain": [
       "<matplotlib.axes._subplots.AxesSubplot at 0x14d43f60>"
      ]
     },
     "execution_count": 364,
     "metadata": {},
     "output_type": "execute_result"
    },
    {
     "data": {
      "image/png": "[encoded data removed]",
      "text/plain": [
       "<matplotlib.figure.Figure at 0x14fa0390>"
      ]
     },
     "metadata": {},
     "output_type": "display_data"
    }
   ],
   "source": [
    "df1.groupby('sector').size().sort_values(ascending=False).plot.bar()"
   ]
  },
  {
   "cell_type": "markdown",
   "metadata": {},
   "source": [
    "### Preprocessing of Feature Columns\n",
    "As you can see, there are several non-numeric columns that need to be converted! Many of them are simply yes/no. These can be reasonably converted into 1/0 (binary) values.\n",
    "\n",
    "Other columns, like living_father and living_mother, have more than two values, and are known as categorical variables. The recommended way to handle such a column is to create as many columns as possible values (e.g. 'living_father_Yes,but residing in onother household', 'living_mother_Do not know', etc.), and assign a 1 to one of them and 0 to all others.\n",
    "\n",
    "These generated columns are sometimes called dummy variables, and we will use the pandas.get_dummies() function to perform this transformation. The code cell below performs the preprocessing routine discussed in this section."
   ]
  },
  {
   "cell_type": "code",
   "execution_count": 365,
   "metadata": {},
   "outputs": [
    {
     "name": "stdout",
     "output_type": "stream",
     "text": [
      "Processed feature columns (168 total features):\n",
      "['province_Eastern Province', 'province_Kigali City', 'province_Northern Province', 'province_Southern Province', 'province_Western Province', 'district_Bugesera', 'district_Burera', 'district_Gakenke', 'district_Gasabo', 'district_Gatsibo', 'district_Gicumbi', 'district_Gisagara', 'district_Huye', 'district_Kamonyi', 'district_Karongi', 'district_Kayonza', 'district_Kicukiro', 'district_Kirehe', 'district_Muhanga', 'district_Musanze', 'district_Ngoma', 'district_Ngororero', 'district_Nyabihu', 'district_Nyagatare', 'district_Nyamagabe', 'district_Nyamasheke', 'district_Nyanza', 'district_Nyarugenge', 'district_Nyaruguru', 'district_Rubavu', 'district_Ruhango', 'district_Rulindo', 'district_Rusizi', 'district_Rutsiro', 'district_Rwamagana', 'sector_Peri urban', 'sector_Rural', 'sector_Semi urban', 'sector_Urban', 'weight', 'Consumption', 'sex_Female', 'sex_Male', 'age', 'living_father_Dont know', 'living_father_No', 'living_father_Yes,and residing in the household', 'living_father_Yes,but residing in onother household', 'living_mother_Do not know', 'living_mother_No', 'living_mother_Yes and resident in household', 'living_mother_Yes but residing in another household', 'health_problem_No', 'health_problem_Yes', 'grade_2012_Primary 1', 'grade_2012_Primary 2', 'grade_2012_Primary 3', 'grade_2012_Primary 4', 'grade_2012_Primary 5', 'grade_2012_Primary 6,7,8', 'grade_2013_Not in class', 'grade_2013_Post primary 1', 'grade_2013_Primary 1', 'grade_2013_Primary 2', 'grade_2013_Primary 3', 'grade_2013_Primary 4', 'grade_2013_Primary 5', 'grade_2013_Primary 6,7,8', 'grade_2013_Secondary 1', 'grade_2013_Secondary 2', 'school_Free Subsidized', 'school_Private', 'school_Public', 'school_problem_Books not available', \"school_problem_Don't know\", 'school_problem_Mediocre teaching', 'school_problem_No problem', 'school_problem_Not enough teachers', 'school_problem_Other (specify)', 'school_problem_Poor buildings & equipment', 'school_problem_Teachers absent', 'edu_expenses_1000', 'edu_expenses_10000', 'edu_expenses_11500', 'edu_expenses_1200', 'edu_expenses_12000', 'edu_expenses_120000', 'edu_expenses_1250', 'edu_expenses_1400', 'edu_expenses_1500', 'edu_expenses_1550', 'edu_expenses_167600', 'edu_expenses_1700', 'edu_expenses_17000', 'edu_expenses_18000', 'edu_expenses_18650', 'edu_expenses_2000', 'edu_expenses_20000', 'edu_expenses_2100', 'edu_expenses_21500', 'edu_expenses_2300', 'edu_expenses_235000', 'edu_expenses_24000', 'edu_expenses_2500', 'edu_expenses_25000', 'edu_expenses_2700', 'edu_expenses_27000', 'edu_expenses_2800', 'edu_expenses_3000', 'edu_expenses_3500', 'edu_expenses_3510', 'edu_expenses_360000', 'edu_expenses_4000', 'edu_expenses_4500', 'edu_expenses_4800', 'edu_expenses_48000', 'edu_expenses_500', 'edu_expenses_5000', 'edu_expenses_540000', 'edu_expenses_5450', 'edu_expenses_5500', 'edu_expenses_5900', 'edu_expenses_6000', 'edu_expenses_6200', 'edu_expenses_7000', 'edu_expenses_7900', 'edu_expenses_8000', 'edu_expenses_8500', 'edu_expenses_900', 'edu_expenses_Missing', 'guardian_Both parents', 'guardian_Father', 'guardian_Mother', 'guardian_Myself', 'guardian_Other Organization/Association', 'guardian_Other household members', 'guardian_Other non-relatives', 'guardian_Other relatives', 'guardian_Others', 'missed_school_count', 'reason_missed_Completed Studies', 'reason_missed_Dropped out', 'reason_missed_Family circumstances', 'reason_missed_Fear of Punishment', 'reason_missed_Financial Reasons', 'reason_missed_Holidays', 'reason_missed_Hunger', 'reason_missed_Other', 'reason_missed_Poor health', 'reason_missed_Transition between levels', 'reason_leave_Change of residence', 'reason_leave_Completed studies successfully', 'reason_leave_Cost', 'reason_leave_Excluded', 'reason_leave_Health', 'reason_leave_Lack of family support', 'reason_leave_Lack of interest', 'reason_leave_Other (Specify)', 'can_read_No', 'can_read_Yes', 'can_write_No', 'can_write_Yes', 'can_calculate_No', 'can_calculate_Yes', 'farm_worker_No', 'farm_worker_Yes', 'repeated', 'dropout']\n"
     ]
    }
   ],
   "source": [
    "def preprocess_features(X):\n",
    "    ''' Preprocesses the student data and converts non-numeric binary variables into\n",
    "        binary (0/1) variables. Converts categorical variables into dummy variables. '''\n",
    "    \n",
    "    # Initialize new output DataFrame\n",
    "    output = pd.DataFrame(index = X.index)\n",
    "\n",
    "    # Investigate each feature column for the data\n",
    "    for col, col_data in X.iteritems():\n",
    "        \n",
    "        # If data type is non-numeric, replace all yes/no values with 1/0\n",
    "        if col_data.dtype == object:\n",
    "            col_data = col_data.replace(['yes', 'no'], [1, 0])\n",
    "\n",
    "        # If data type is categorical, convert to dummy variables\n",
    "        if col_data.dtype == object:\n",
    "            # Example: 'school' => 'school_GP' and 'school_MS'\n",
    "            col_data = pd.get_dummies(col_data, prefix = col)  \n",
    "        \n",
    "        # Collect the revised columns\n",
    "        output = output.join(col_data)\n",
    "    \n",
    "    return output\n",
    "\n",
    "X_all = preprocess_features(df1)\n",
    "print (\"Processed feature columns ({} total features):\\n{}\".format(len(X_all.columns), list(X_all.columns)))"
   ]
  },
  {
   "cell_type": "code",
   "execution_count": 366,
   "metadata": {},
   "outputs": [
    {
     "name": "stdout",
     "output_type": "stream",
     "text": [
      "Feature columns:\n",
      "['province_Eastern Province', 'province_Kigali City', 'province_Northern Province', 'province_Southern Province', 'province_Western Province', 'district_Bugesera', 'district_Burera', 'district_Gakenke', 'district_Gasabo', 'district_Gatsibo', 'district_Gicumbi', 'district_Gisagara', 'district_Huye', 'district_Kamonyi', 'district_Karongi', 'district_Kayonza', 'district_Kicukiro', 'district_Kirehe', 'district_Muhanga', 'district_Musanze', 'district_Ngoma', 'district_Ngororero', 'district_Nyabihu', 'district_Nyagatare', 'district_Nyamagabe', 'district_Nyamasheke', 'district_Nyanza', 'district_Nyarugenge', 'district_Nyaruguru', 'district_Rubavu', 'district_Ruhango', 'district_Rulindo', 'district_Rusizi', 'district_Rutsiro', 'district_Rwamagana', 'sector_Peri urban', 'sector_Rural', 'sector_Semi urban', 'sector_Urban', 'weight', 'Consumption', 'sex_Female', 'sex_Male', 'age', 'living_father_Dont know', 'living_father_No', 'living_father_Yes,and residing in the household', 'living_father_Yes,but residing in onother household', 'living_mother_Do not know', 'living_mother_No', 'living_mother_Yes and resident in household', 'living_mother_Yes but residing in another household', 'health_problem_No', 'health_problem_Yes', 'grade_2012_Primary 1', 'grade_2012_Primary 2', 'grade_2012_Primary 3', 'grade_2012_Primary 4', 'grade_2012_Primary 5', 'grade_2012_Primary 6,7,8', 'grade_2013_Not in class', 'grade_2013_Post primary 1', 'grade_2013_Primary 1', 'grade_2013_Primary 2', 'grade_2013_Primary 3', 'grade_2013_Primary 4', 'grade_2013_Primary 5', 'grade_2013_Primary 6,7,8', 'grade_2013_Secondary 1', 'grade_2013_Secondary 2', 'school_Free Subsidized', 'school_Private', 'school_Public', 'school_problem_Books not available', \"school_problem_Don't know\", 'school_problem_Mediocre teaching', 'school_problem_No problem', 'school_problem_Not enough teachers', 'school_problem_Other (specify)', 'school_problem_Poor buildings & equipment', 'school_problem_Teachers absent', 'edu_expenses_1000', 'edu_expenses_10000', 'edu_expenses_11500', 'edu_expenses_1200', 'edu_expenses_12000', 'edu_expenses_120000', 'edu_expenses_1250', 'edu_expenses_1400', 'edu_expenses_1500', 'edu_expenses_1550', 'edu_expenses_167600', 'edu_expenses_1700', 'edu_expenses_17000', 'edu_expenses_18000', 'edu_expenses_18650', 'edu_expenses_2000', 'edu_expenses_20000', 'edu_expenses_2100', 'edu_expenses_21500', 'edu_expenses_2300', 'edu_expenses_235000', 'edu_expenses_24000', 'edu_expenses_2500', 'edu_expenses_25000', 'edu_expenses_2700', 'edu_expenses_27000', 'edu_expenses_2800', 'edu_expenses_3000', 'edu_expenses_3500', 'edu_expenses_3510', 'edu_expenses_360000', 'edu_expenses_4000', 'edu_expenses_4500', 'edu_expenses_4800', 'edu_expenses_48000', 'edu_expenses_500', 'edu_expenses_5000', 'edu_expenses_540000', 'edu_expenses_5450', 'edu_expenses_5500', 'edu_expenses_5900', 'edu_expenses_6000', 'edu_expenses_6200', 'edu_expenses_7000', 'edu_expenses_7900', 'edu_expenses_8000', 'edu_expenses_8500', 'edu_expenses_900', 'edu_expenses_Missing', 'guardian_Both parents', 'guardian_Father', 'guardian_Mother', 'guardian_Myself', 'guardian_Other Organization/Association', 'guardian_Other household members', 'guardian_Other non-relatives', 'guardian_Other relatives', 'guardian_Others', 'missed_school_count', 'reason_missed_Completed Studies', 'reason_missed_Dropped out', 'reason_missed_Family circumstances', 'reason_missed_Fear of Punishment', 'reason_missed_Financial Reasons', 'reason_missed_Holidays', 'reason_missed_Hunger', 'reason_missed_Other', 'reason_missed_Poor health', 'reason_missed_Transition between levels', 'reason_leave_Change of residence', 'reason_leave_Completed studies successfully', 'reason_leave_Cost', 'reason_leave_Excluded', 'reason_leave_Health', 'reason_leave_Lack of family support', 'reason_leave_Lack of interest', 'reason_leave_Other (Specify)', 'can_read_No', 'can_read_Yes', 'can_write_No', 'can_write_Yes', 'can_calculate_No', 'can_calculate_Yes', 'farm_worker_No', 'farm_worker_Yes']\n",
      "\n",
      "Target column: repeated\n",
      "\n",
      "Feature values:\n",
      "   province_Eastern Province  province_Kigali City  \\\n",
      "1                          0                     1   \n",
      "6                          0                     1   \n",
      "7                          0                     1   \n",
      "8                          0                     1   \n",
      "9                          0                     1   \n",
      "\n",
      "   province_Northern Province  province_Southern Province  \\\n",
      "1                           0                           0   \n",
      "6                           0                           0   \n",
      "7                           0                           0   \n",
      "8                           0                           0   \n",
      "9                           0                           0   \n",
      "\n",
      "   province_Western Province  district_Bugesera  district_Burera  \\\n",
      "1                          0                  0                0   \n",
      "6                          0                  0                0   \n",
      "7                          0                  0                0   \n",
      "8                          0                  0                0   \n",
      "9                          0                  0                0   \n",
      "\n",
      "   district_Gakenke  district_Gasabo  district_Gatsibo       ...         \\\n",
      "1                 0                0                 0       ...          \n",
      "6                 0                0                 0       ...          \n",
      "7                 0                0                 0       ...          \n",
      "8                 0                0                 0       ...          \n",
      "9                 0                0                 0       ...          \n",
      "\n",
      "   reason_leave_Lack of interest  reason_leave_Other (Specify)  can_read_No  \\\n",
      "1                              0                             0            0   \n",
      "6                              0                             0            0   \n",
      "7                              0                             0            0   \n",
      "8                              0                             0            0   \n",
      "9                              0                             0            0   \n",
      "\n",
      "   can_read_Yes  can_write_No  can_write_Yes  can_calculate_No  \\\n",
      "1             1             0              1                 0   \n",
      "6             1             0              1                 0   \n",
      "7             0             0              0                 0   \n",
      "8             1             0              1                 0   \n",
      "9             1             0              1                 0   \n",
      "\n",
      "   can_calculate_Yes  farm_worker_No  farm_worker_Yes  \n",
      "1                  1               1                0  \n",
      "6                  1               1                0  \n",
      "7                  0               1                0  \n",
      "8                  1               1                0  \n",
      "9                  1               1                0  \n",
      "\n",
      "[5 rows x 166 columns]\n"
     ]
    }
   ],
   "source": [
    "# Extract feature columns\n",
    "feature_cols = list(X_all.columns[:-2])\n",
    "\n",
    "# Extract target column 'repeated'\n",
    "target_col = X_all.columns[-2] \n",
    "\n",
    "# Show the list of columns\n",
    "print (\"Feature columns:\\n{}\".format(feature_cols))\n",
    "print (\"\\nTarget column: {}\".format(target_col))\n",
    "\n",
    "# Separate the data into feature data and target data (X_all and y_all, respectively)\n",
    "x_all = X_all[feature_cols]\n",
    "y_all = X_all[target_col]\n",
    "\n",
    "# Show the feature information by printing the first five rows\n",
    "print (\"\\nFeature values:\")\n",
    "print (x_all.head())"
   ]
  },
  {
   "cell_type": "code",
   "execution_count": 368,
   "metadata": {},
   "outputs": [
    {
     "name": "stdout",
     "output_type": "stream",
     "text": [
      "Training set has 1582 samples.\n",
      "Testing set has 678 samples.\n"
     ]
    }
   ],
   "source": [
    "from sklearn.cross_validation import train_test_split\n",
    "\n",
    "# Set the number of training points\n",
    "num_train = len(x_all)*.7\n",
    "\n",
    "# Set the number of testing points\n",
    "num_test = len(x_all)*.3\n",
    "\n",
    "# Shuffle and split the dataset into the number of training and testing points above\n",
    "x_train, x_test, y_train, y_test = train_test_split(x_all, y_all, test_size=float(num_test)/X_all.shape[0], random_state=0)\n",
    "\n",
    "# Show the results of the split\n",
    "print (\"Training set has {} samples.\".format(x_train.shape[0]))\n",
    "print (\"Testing set has {} samples.\".format(x_test.shape[0]))"
   ]
  },
  {
   "cell_type": "markdown",
   "metadata": {},
   "source": [
    "## Prediction"
   ]
  },
  {
   "cell_type": "code",
   "execution_count": 370,
   "metadata": {},
   "outputs": [
    {
     "data": {
      "text/plain": [
       "LinearRegression(copy_X=True, fit_intercept=True, n_jobs=1, normalize=False)"
      ]
     },
     "execution_count": 370,
     "metadata": {},
     "output_type": "execute_result"
    }
   ],
   "source": [
    "from sklearn import datasets, linear_model\n",
    "\n",
    "# Create linear regression object\n",
    "regr = linear_model.LinearRegression()\n",
    "\n",
    "# Train the model using the training sets\n",
    "regr.fit(np.nan_to_num(x_train), y_train)"
   ]
  },
  {
   "cell_type": "code",
   "execution_count": 372,
   "metadata": {},
   "outputs": [],
   "source": [
    "# Make predictions using the testing set\n",
    "y_pred = regr.predict(np.nan_to_num(x_test))"
   ]
  },
  {
   "cell_type": "markdown",
   "metadata": {},
   "source": [
    "## Printing out all the coefficients along with the R-square"
   ]
  },
  {
   "cell_type": "code",
   "execution_count": 374,
   "metadata": {},
   "outputs": [
    {
     "name": "stdout",
     "output_type": "stream",
     "text": [
      "('Coefficients: \\n', array([-2.51640611e+01, -8.29189514e+05, -2.25910561e+05, -3.26690876e+05,\n",
      "        1.01708174e+05, -1.90135586e+05,  3.57497553e+04,  3.57498052e+04,\n",
      "        6.39028728e+05, -1.90135627e+05,  3.57497532e+04,  1.36530113e+05,\n",
      "        1.36530092e+05,  1.36530074e+05, -2.91868997e+05, -1.90135532e+05,\n",
      "        6.39028692e+05, -1.90135580e+05,  1.36530139e+05,  3.57497304e+04,\n",
      "       -1.90135646e+05, -2.91868901e+05, -2.91868976e+05, -1.90135602e+05,\n",
      "        1.36530095e+05, -2.91869013e+05,  1.36530123e+05,  6.39028692e+05,\n",
      "        1.36530067e+05, -2.91868937e+05,  1.36530099e+05,  3.57497279e+04,\n",
      "       -2.91869049e+05, -2.91868937e+05, -1.90135612e+05, -1.13785807e+01,\n",
      "       -1.13946650e+01, -1.14237557e+01, -1.13435663e+01, -1.19438715e-04,\n",
      "        3.72529030e-09,  1.02098695e+00,  1.04927819e+00, -3.18242134e-03,\n",
      "        3.99896096e+00,  3.93838304e+00,  3.87768719e+00,  3.89503060e+00,\n",
      "       -7.18262666e-01, -6.97146751e-01, -6.81325203e-01, -7.16956006e-01,\n",
      "       -7.94948624e+00, -7.93917285e+00, -3.54834216e-01,  4.36862570e-01,\n",
      "        9.80497164e-01,  1.30699928e+00,  1.84304640e+00,  1.74761892e+00,\n",
      "       -4.51264484e+00,  9.56088673e-01, -2.11555306e+00, -3.05269308e+00,\n",
      "       -3.75755676e+00, -4.23790470e+00, -4.54739204e+00, -5.09880904e+00,\n",
      "       -5.07411065e+00, -2.58879425e+00, -3.00927171e+00, -3.01778493e+00,\n",
      "       -3.02105118e+00,  3.82325409e-01,  2.83265344e-01,  3.62713808e-01,\n",
      "        3.38737094e-01,  3.00155820e-01,  3.42333459e-01,  3.38556535e-01,\n",
      "        4.80052999e-01, -1.36884326e-01, -7.06677883e-02, -1.03822001e-01,\n",
      "       -6.45574473e-02, -6.19238440e-02,  9.88265760e-03,  1.08774365e-02,\n",
      "        1.20460836e+00, -1.22203222e-01, -1.28741692e+00, -3.16686570e-02,\n",
      "       -1.25016223e-01, -9.17197316e-02, -7.57533414e-02, -6.09609932e-02,\n",
      "       -2.12415338e-02, -2.13735383e+00, -6.66087954e-02, -1.57695630e-01,\n",
      "        1.87214245e-01, -7.44212631e-02, -1.50785212e-01,  2.11219713e-01,\n",
      "        4.68409745e-03, -3.91939285e-02,  8.34281475e-02, -2.23230506e-01,\n",
      "       -1.09493851e-01,  1.07570432e-01,  4.64798310e-02, -6.79802346e-02,\n",
      "       -2.92287044e-02, -5.37502195e-03, -7.45227169e-07,  3.04587957e-07,\n",
      "        3.22615961e-08,  8.14633434e-02,  2.32830644e-10, -1.36207424e-01,\n",
      "       -9.06273352e-02, -6.86698516e-03,  4.71688226e-02,  6.28678221e-11,\n",
      "       -1.10956200e-01,  7.08481884e-12, -5.87009170e-02, -4.00443567e-14,\n",
      "       -1.38777878e-17, -5.74640990e-02,  4.91493405e-02,  4.39228574e-02,\n",
      "       -2.25619743e-03,  1.59038236e-01, -3.39587718e-02,  4.98961692e-02,\n",
      "       -3.38560222e-02,  1.29898922e-02,  9.68671131e-02, -1.46281382e-04,\n",
      "       -1.22988918e-01,  2.76703290e+00,  1.53840174e-04, -9.51239388e-02,\n",
      "       -4.99440627e-02,  1.30701506e-02,  1.08688893e-01,  6.12921953e-03,\n",
      "        4.03521984e-03,  1.40246961e-01,  0.00000000e+00,  0.00000000e+00,\n",
      "       -2.66000390e+00, -2.59348612e+00, -2.69831129e+00, -2.72595695e+00,\n",
      "       -2.64912373e+00, -2.88839262e+00, -6.03557957e+00, -3.68923837e+00,\n",
      "       -2.36370306e+00, -2.46567644e+00,  6.11798388e+00,  6.09888561e+00,\n",
      "        1.84837853e+00,  1.69700818e+00]))\n",
      "Mean squared error: 0.21\n",
      "Variance score: -0.14\n"
     ]
    }
   ],
   "source": [
    "from sklearn.metrics import mean_squared_error, r2_score\n",
    "# The coefficients\n",
    "print('Coefficients: \\n', regr.coef_)\n",
    "# The mean squared error\n",
    "print(\"Mean squared error: %.2f\"\n",
    "      % mean_squared_error(y_test, y_pred))\n",
    "# Explained variance score: 1 is perfect prediction\n",
    "print('Variance score: %.2f' % r2_score(y_test, y_pred))\n"
   ]
  },
  {
   "cell_type": "markdown",
   "metadata": {},
   "source": [
    "## Printing out the 30 biggest positive coefficients"
   ]
  },
  {
   "cell_type": "code",
   "execution_count": 418,
   "metadata": {},
   "outputs": [
    {
     "name": "stdout",
     "output_type": "stream",
     "text": [
      "district_Gasabo 639028.7275450855\n",
      "district_Nyarugenge 639028.6920003718\n",
      "district_Kicukiro 639028.6919958376\n",
      "district_Muhanga 136530.1390110495\n",
      "district_Nyanza 136530.12277507264\n",
      "district_Gisagara 136530.11307777843\n",
      "district_Ruhango 136530.0986810122\n",
      "district_Nyamagabe 136530.09459006222\n",
      "district_Huye 136530.0915714224\n",
      "district_Kamonyi 136530.0742229697\n",
      "district_Nyaruguru 136530.06675741856\n",
      "province_Western Province 101708.17366634632\n",
      "district_Gakenke 35749.80515371742\n",
      "district_Burera 35749.75527218791\n",
      "district_Gicumbi 35749.75323124234\n",
      "district_Musanze 35749.73039749972\n",
      "district_Rulindo 35749.72790873266\n",
      "can_calculate_No 6.117983883104898\n",
      "can_calculate_Yes 6.098885614475876\n",
      "living_father_Dont know 3.9989609599656433\n",
      "living_father_No 3.9383830430015223\n",
      "living_father_Yes,but residing in onother household 3.8950306024053134\n",
      "living_father_Yes,and residing in the household 3.877687188454729\n",
      "reason_missed_Dropped out 2.7670329020729696\n",
      "farm_worker_No 1.8483785299758893\n",
      "grade_2012_Primary 5 1.8430464041921368\n",
      "grade_2012_Primary 6,7,8 1.7476189151675499\n",
      "farm_worker_Yes 1.6970081766485237\n",
      "grade_2012_Primary 4 1.3069992848541006\n",
      "edu_expenses_1400 1.2046083593149888\n"
     ]
    }
   ],
   "source": [
    "for i in sorted(regr.coef_, reverse=True)[:30]:\n",
    "    idx = list(regr.coef_).index(i)\n",
    "    print feature_cols[idx], i"
   ]
  },
  {
   "cell_type": "markdown",
   "metadata": {},
   "source": [
    "## Printing out the 30 biggest negative coefficients"
   ]
  },
  {
   "cell_type": "code",
   "execution_count": 419,
   "metadata": {},
   "outputs": [
    {
     "name": "stdout",
     "output_type": "stream",
     "text": [
      "province_Kigali City -829189.5143508213\n",
      "province_Southern Province -326690.87615554803\n",
      "district_Rusizi -291869.04916496354\n",
      "district_Nyamasheke -291869.0129039013\n",
      "district_Karongi -291868.9974055473\n",
      "district_Nyabihu -291868.97612739523\n",
      "district_Rutsiro -291868.93707330525\n",
      "district_Rubavu -291868.93679588794\n",
      "district_Ngororero -291868.9010052779\n",
      "province_Northern Province -225910.5612133158\n",
      "district_Ngoma -190135.64620240396\n",
      "district_Gatsibo -190135.62677161302\n",
      "district_Rwamagana -190135.61222849396\n",
      "district_Nyagatare -190135.60245394625\n",
      "district_Bugesera -190135.58566105226\n",
      "district_Kirehe -190135.57967882536\n",
      "district_Kayonza -190135.53173351559\n",
      "province_Eastern Province -25.16406106146411\n",
      "sector_Semi urban -11.42375574788457\n",
      "sector_Rural -11.394664995215862\n",
      "sector_Peri urban -11.378580729926398\n",
      "sector_Urban -11.343566341212863\n",
      "health_problem_No -7.949486239507678\n",
      "health_problem_Yes -7.939172845566645\n",
      "can_read_No -6.03557957164594\n",
      "grade_2013_Primary 6,7,8 -5.098809037473984\n",
      "grade_2013_Secondary 1 -5.074110654570177\n",
      "grade_2013_Primary 5 -4.5473920388903935\n",
      "grade_2013_Not in class -4.512644844100578\n",
      "grade_2013_Primary 4 -4.2379047009162605\n"
     ]
    }
   ],
   "source": [
    "for i in sorted(regr.coef_)[:30]:\n",
    "    idx = list(regr.coef_).index(i)\n",
    "    print feature_cols[idx], i"
   ]
  },
  {
   "cell_type": "markdown",
   "metadata": {},
   "source": [
    "### These values of coefficients seem to show that variables related to locality like province, district or sector, play a big role even more so than other variables like living_father, living_mother which is a bit counter-intuitive. One could easily think that having a stable home would be more important for a student's academic success than the province where the student lives. But then again, maybe there are just not enough good schools in certain localities"
   ]
  },
  {
   "cell_type": "markdown",
   "metadata": {},
   "source": [
    "### The R-square is too low,  I could remedy to that by finding the right set of variables to use in a stepwise way but there is no guarantee this will really help. For difficult problems, even a low R-square might not mean the results are not reliable"
   ]
  },
  {
   "cell_type": "markdown",
   "metadata": {},
   "source": [
    "### Strengths and Weaknesses of the dataset"
   ]
  },
  {
   "cell_type": "markdown",
   "metadata": {},
   "source": [
    "# Strengths\n",
    "* It has enough variables\n",
    "* It is based on a recent survey\n",
    "*  Data are collected in a non-interventional way and therefore reflect ‘real life’\n",
    "\n",
    "# Limitations\n",
    "* Too much missing values\n",
    "* Too small dataset\n",
    "* Results may be biased because of the size of the dataset"
   ]
  }
 ],
 "metadata": {
  "kernelspec": {
   "display_name": "Python 2",
   "language": "python",
   "name": "python2"
  },
  "language_info": {
   "codemirror_mode": {
    "name": "ipython",
    "version": 2
   },
   "file_extension": ".py",
   "mimetype": "text/x-python",
   "name": "python",
   "nbconvert_exporter": "python",
   "pygments_lexer": "ipython2",
   "version": "2.7.14"
  }
 },
 "nbformat": 4,
 "nbformat_minor": 2
}
