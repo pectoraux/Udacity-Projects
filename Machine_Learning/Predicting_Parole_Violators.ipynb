{
 "cells": [
  {
   "cell_type": "markdown",
   "metadata": {},
   "source": [
    "# *Predicting Parole Violators*\n",
    "<hr>\n",
    "## Machine Learning Engineer Nanodegree\n",
    "<hr>\n",
    "Tetevi Placide Ekon   \n",
    "September 22<sup>nd</sup>, 2016"
   ]
  },
  {
   "cell_type": "markdown",
   "metadata": {},
   "source": [
    "## I. Definition"
   ]
  },
  {
   "cell_type": "markdown",
   "metadata": {},
   "source": [
    "### Project Overview\n",
    "In this project, we will evaluate the performance and predictive power of a model that has been trained and tested on data collected from the [`United States 2004 National Corrections Reporting Program`](http://www.icpsr.umich.edu/icpsrweb/NACJD/series/38/studies/26521?archive=NACJD&sortBy=7); a census across all the United States of parole releases that occurred during 2004. We limited our focus to parolees who served no more than 6 months in prison and whose maximum sentence for all charges did not exceed 18 months. A model trained on this data that is seen as a good fit could then be used to make certain predictions about prisonners who should obtain parole and ultimately solve the problem of prisons overcrowding.\n"
   ]
  },
  {
   "cell_type": "markdown",
   "metadata": {},
   "source": [
    "### Problem Statement\n",
    "The goal of this project is to train a classification model that can tell apart a parolee that is going to violate parole and one that will not. In order to do so, we are first going to build a baseline model that always predicts the most frequent outcome i.e if the most frequent outcome was that parolees violate parole, it will always predict that same outcome for all parolees in our dataset. This model will obviously be unhelpful but its sole purpose is to serve as a baseline for performances comparison with a second model that we will then build. That second model will have to outperform our baseline model when compared using their score on the metrics used for this project.   \n",
    "We will finally try to get the most out of that model by performing several parameters tuning via `gridsearch`."
   ]
  },
  {
   "cell_type": "markdown",
   "metadata": {},
   "source": [
    "### Metrics\n",
    "For this project, in order to evaluate the performance of our model, we are going to use three different Metrics:  \n",
    "\n",
    "**F1 score:**  \n",
    "The first metric will be the F1 Score. It is a measure of a test's accuracy. It considers \n",
    "both the precision p and the recall r of the test to compute the score: p is the number of \n",
    "correct positive results divided by the number of all positive results, and r is the number\n",
    "of correct positive results divided by the number of positive results that should have been\n",
    "returned. The F1 score can be interpreted as a weighted average of the precision and recall,\n",
    "where an F1 score reaches its best value at 1 and worst at 0.   \n",
    "<center>F1 = $2*\\frac{\\text{Precision * Recall}}{\\text{Precision + Recall}}$ </center>     \n",
    "**Accuracy:**        \n",
    "Then we will test the Accuracy of our Model. Accuracy is a common metric for binary \n",
    "classifiers; it takes into account both tru positives and true negatives with equal weight:  \n",
    "<center>Accuracy = $\\frac{\\text{True Postives + True Negatives}}{\\text{Dataset Size}}$</center>   \n",
    "**AUC:**  \n",
    "The third and last metric we will use for this project is the AUC or Area Under Curve which \n",
    "computes the area under the ROC curve for a given model. It tells us the ability of the model\n",
    "to tell apart a true positive from a true negative."
   ]
  },
  {
   "cell_type": "markdown",
   "metadata": {},
   "source": [
    "## II. Analysis"
   ]
  },
  {
   "cell_type": "markdown",
   "metadata": {},
   "source": [
    "### Data Exploration\n",
    "The code cell below loads necessary Python libraries as well as the student data. The last column from this dataset, `'violator'`, will be our target label (whether the parolee violated parole or not). All other columns are features about each parolee."
   ]
  },
  {
   "cell_type": "code",
   "execution_count": 3,
   "metadata": {
    "collapsed": false
   },
   "outputs": [
    {
     "name": "stdout",
     "output_type": "stream",
     "text": [
      "Parole data read successfully!\n"
     ]
    }
   ],
   "source": [
    "# Import libraries\n",
    "import numpy as np\n",
    "import pandas as pd\n",
    "from time import time\n",
    "from sklearn.metrics import f1_score\n",
    "\n",
    "# Pretty display for notebooks\n",
    "%matplotlib inline\n",
    "\n",
    "# Read parole data\n",
    "parole_data = pd.read_csv(\"parole.csv\")\n",
    "print \"Parole data read successfully!\""
   ]
  },
  {
   "cell_type": "code",
   "execution_count": 26,
   "metadata": {
    "collapsed": false
   },
   "outputs": [
    {
     "name": "stdout",
     "output_type": "stream",
     "text": [
      "Feature columns:\n",
      "['male', 'race', 'age', 'state', 'time.served', 'max.sentence', 'multiple.offenses', 'crime']\n",
      "\n",
      "Target column: violator\n",
      "\n",
      "Feature values:\n",
      "   male  race   age state  time.served  max.sentence  multiple.offenses crime\n",
      "0     1     1  33.2     1          5.5            18                  0     4\n",
      "1     0     1  39.7     1          5.4            12                  0     3\n",
      "2     1     2  29.5     1          5.6            12                  0     3\n",
      "3     1     1  22.4     1          5.7            18                  0     1\n",
      "4     1     2  21.6     1          5.4            12                  0     1\n",
      "\n",
      "Target column values:\n",
      "0    0\n",
      "1    0\n",
      "2    0\n",
      "3    0\n",
      "4    0\n",
      "Name: violator, dtype: int64\n"
     ]
    }
   ],
   "source": [
    "# Extract feature columns\n",
    "feature_cols = list(parole_data.columns[:-1])\n",
    "\n",
    "# Extract target column 'passed'\n",
    "target_col = parole_data.columns[-1]\n",
    "\n",
    "# Show the list of columns\n",
    "print \"Feature columns:\\n{}\".format(feature_cols)\n",
    "print \"\\nTarget column: {}\".format(target_col)\n",
    "\n",
    "# Separate the data into feature data and target data (X_all and y_all, respectively)\n",
    "X_all = parole_data[feature_cols]\n",
    "y_all = parole_data[target_col]\n",
    "\n",
    "# Show the feature information by printing the first five rows\n",
    "print \"\\nFeature values:\"\n",
    "print X_all.head()\n",
    "print \"\\nTarget column values:\"\n",
    "print y_all.head()"
   ]
  },
  {
   "cell_type": "markdown",
   "metadata": {},
   "source": [
    " *As we can see, the dataset contains the following variables:  *\n",
    "- `male`: 1 if the parolee is male, 0 if female\n",
    "- `race`: 1 if the parolee is white, 2 otherwise\n",
    "- `age`: the parolee's age (in years) when he or she was released from prison\n",
    "- `state`: a code for the parolee's state. 2 is Kentucky, 3 is Louisiana, 4 is Virginia, and 1 is any other state. The three states were selected due to having a high representation in the dataset.\n",
    "- `time.served`: the number of months the parolee served in prison (limited by the inclusion criteria to not exceed 6 months).\n",
    "- `max.sentence`: the maximum sentence length for all charges, in months (limited by the inclusion criteria to not exceed 18 months).\n",
    "- `multiple.offenses`: 1 if the parolee was incarcerated for multiple offenses, 0 otherwise.\n",
    "- `crime`: a code for the parolee's main crime leading to incarceration. 2 is larceny, 3 is drug-related crime, 4 is driving-related crime, and 1 is any other crime.\n",
    "- `violator (target column)`: 1 if the parolee violated the parole, and 0 if the parolee completed the parole without violation.\n"
   ]
  },
  {
   "cell_type": "markdown",
   "metadata": {},
   "source": [
    "#### > Some Statistics about the data"
   ]
  },
  {
   "cell_type": "code",
   "execution_count": 10,
   "metadata": {
    "collapsed": false
   },
   "outputs": [
    {
     "data": {
      "text/html": [
       "<div>\n",
       "<table border=\"1\" class=\"dataframe\">\n",
       "  <thead>\n",
       "    <tr style=\"text-align: right;\">\n",
       "      <th></th>\n",
       "      <th>male</th>\n",
       "      <th>race</th>\n",
       "      <th>age</th>\n",
       "      <th>state</th>\n",
       "      <th>time.served</th>\n",
       "      <th>max.sentence</th>\n",
       "      <th>multiple.offenses</th>\n",
       "      <th>crime</th>\n",
       "      <th>violator</th>\n",
       "    </tr>\n",
       "  </thead>\n",
       "  <tbody>\n",
       "    <tr>\n",
       "      <th>count</th>\n",
       "      <td>675.000000</td>\n",
       "      <td>675.000000</td>\n",
       "      <td>675.000000</td>\n",
       "      <td>675.000000</td>\n",
       "      <td>675.000000</td>\n",
       "      <td>675.000000</td>\n",
       "      <td>675.000000</td>\n",
       "      <td>675.000000</td>\n",
       "      <td>675.000000</td>\n",
       "    </tr>\n",
       "    <tr>\n",
       "      <th>mean</th>\n",
       "      <td>0.807407</td>\n",
       "      <td>1.423704</td>\n",
       "      <td>34.512296</td>\n",
       "      <td>2.887407</td>\n",
       "      <td>4.198074</td>\n",
       "      <td>13.056296</td>\n",
       "      <td>0.536296</td>\n",
       "      <td>2.059259</td>\n",
       "      <td>0.115556</td>\n",
       "    </tr>\n",
       "    <tr>\n",
       "      <th>std</th>\n",
       "      <td>0.394628</td>\n",
       "      <td>0.494511</td>\n",
       "      <td>10.351541</td>\n",
       "      <td>1.226224</td>\n",
       "      <td>1.226855</td>\n",
       "      <td>3.056797</td>\n",
       "      <td>0.499051</td>\n",
       "      <td>1.135892</td>\n",
       "      <td>0.319928</td>\n",
       "    </tr>\n",
       "    <tr>\n",
       "      <th>min</th>\n",
       "      <td>0.000000</td>\n",
       "      <td>1.000000</td>\n",
       "      <td>18.400000</td>\n",
       "      <td>1.000000</td>\n",
       "      <td>0.000000</td>\n",
       "      <td>1.000000</td>\n",
       "      <td>0.000000</td>\n",
       "      <td>1.000000</td>\n",
       "      <td>0.000000</td>\n",
       "    </tr>\n",
       "    <tr>\n",
       "      <th>25%</th>\n",
       "      <td>1.000000</td>\n",
       "      <td>1.000000</td>\n",
       "      <td>25.350000</td>\n",
       "      <td>2.000000</td>\n",
       "      <td>3.250000</td>\n",
       "      <td>12.000000</td>\n",
       "      <td>0.000000</td>\n",
       "      <td>1.000000</td>\n",
       "      <td>0.000000</td>\n",
       "    </tr>\n",
       "    <tr>\n",
       "      <th>50%</th>\n",
       "      <td>1.000000</td>\n",
       "      <td>1.000000</td>\n",
       "      <td>33.700000</td>\n",
       "      <td>3.000000</td>\n",
       "      <td>4.400000</td>\n",
       "      <td>12.000000</td>\n",
       "      <td>1.000000</td>\n",
       "      <td>2.000000</td>\n",
       "      <td>0.000000</td>\n",
       "    </tr>\n",
       "    <tr>\n",
       "      <th>75%</th>\n",
       "      <td>1.000000</td>\n",
       "      <td>2.000000</td>\n",
       "      <td>42.550000</td>\n",
       "      <td>4.000000</td>\n",
       "      <td>5.200000</td>\n",
       "      <td>15.000000</td>\n",
       "      <td>1.000000</td>\n",
       "      <td>3.000000</td>\n",
       "      <td>0.000000</td>\n",
       "    </tr>\n",
       "    <tr>\n",
       "      <th>max</th>\n",
       "      <td>1.000000</td>\n",
       "      <td>2.000000</td>\n",
       "      <td>67.000000</td>\n",
       "      <td>4.000000</td>\n",
       "      <td>6.000000</td>\n",
       "      <td>18.000000</td>\n",
       "      <td>1.000000</td>\n",
       "      <td>4.000000</td>\n",
       "      <td>1.000000</td>\n",
       "    </tr>\n",
       "  </tbody>\n",
       "</table>\n",
       "</div>"
      ],
      "text/plain": [
       "             male        race         age       state  time.served  \\\n",
       "count  675.000000  675.000000  675.000000  675.000000   675.000000   \n",
       "mean     0.807407    1.423704   34.512296    2.887407     4.198074   \n",
       "std      0.394628    0.494511   10.351541    1.226224     1.226855   \n",
       "min      0.000000    1.000000   18.400000    1.000000     0.000000   \n",
       "25%      1.000000    1.000000   25.350000    2.000000     3.250000   \n",
       "50%      1.000000    1.000000   33.700000    3.000000     4.400000   \n",
       "75%      1.000000    2.000000   42.550000    4.000000     5.200000   \n",
       "max      1.000000    2.000000   67.000000    4.000000     6.000000   \n",
       "\n",
       "       max.sentence  multiple.offenses       crime    violator  \n",
       "count    675.000000         675.000000  675.000000  675.000000  \n",
       "mean      13.056296           0.536296    2.059259    0.115556  \n",
       "std        3.056797           0.499051    1.135892    0.319928  \n",
       "min        1.000000           0.000000    1.000000    0.000000  \n",
       "25%       12.000000           0.000000    1.000000    0.000000  \n",
       "50%       12.000000           1.000000    2.000000    0.000000  \n",
       "75%       15.000000           1.000000    3.000000    0.000000  \n",
       "max       18.000000           1.000000    4.000000    1.000000  "
      ]
     },
     "execution_count": 10,
     "metadata": {},
     "output_type": "execute_result"
    }
   ],
   "source": [
    "parole_data.describe()"
   ]
  },
  {
   "cell_type": "markdown",
   "metadata": {},
   "source": [
    "Let's begin by investigating the dataset to determine how many parolees we have information on, and learn about the parole violation rate among these parolees. In the code cell below, we computed the following:\n",
    "\n",
    "- The total number of parolees, `n_parolees`.\n",
    "- The total number of features for each parolee, `n_features`.\n",
    "- The number of those parolees who violated parole, `n_violators`.\n",
    "- The number of those parolees who did not violate parole, `n_non_violators`.\n",
    "- The parole violation rate, `viol_rate`, in percent (%).\n"
   ]
  },
  {
   "cell_type": "code",
   "execution_count": 11,
   "metadata": {
    "collapsed": false
   },
   "outputs": [
    {
     "name": "stdout",
     "output_type": "stream",
     "text": [
      "Total number of parolees: 675\n",
      "Number of features: 8\n",
      "Number of parolees who violated parole: 78\n",
      "Number of parolees who did not violate parole: 597\n",
      "Parole violation rate: 11.56%\n"
     ]
    }
   ],
   "source": [
    "# The total number of parolees\n",
    "n_parolees = len(parole_data[0:])\n",
    "\n",
    "# The total number of features for each parolee\n",
    "n_features = len(parole_data.columns[:-1])\n",
    "\n",
    "# The number of those parolees who violated parole\n",
    "n_violators = len(parole_data[parole_data.violator == 1])\n",
    "\n",
    "# The number of those parolees who did not violate parole\n",
    "n_non_violators = len(parole_data[parole_data.violator == 0])\n",
    "\n",
    "# The parole violation rate\n",
    "viol_rate = n_violators*100.0/n_parolees\n",
    "\n",
    "# Print the results\n",
    "print \"Total number of parolees: {}\".format(n_parolees)\n",
    "print \"Number of features: {}\".format(n_features)\n",
    "print \"Number of parolees who violated parole: {}\".format(n_violators)\n",
    "print \"Number of parolees who did not violate parole: {}\".format(n_non_violators)\n",
    "print \"Parole violation rate: {:.2f}%\".format(viol_rate)"
   ]
  },
  {
   "cell_type": "markdown",
   "metadata": {},
   "source": [
    "#### > Proportion of male and female violators\n"
   ]
  },
  {
   "cell_type": "code",
   "execution_count": 12,
   "metadata": {
    "collapsed": false
   },
   "outputs": [
    {
     "name": "stdout",
     "output_type": "stream",
     "text": [
      "Proportion of male parole violators: 0.820512820513\n",
      "Proportion of female parole violators: 0.179487179487\n"
     ]
    }
   ],
   "source": [
    "# The proportion of male parole violators\n",
    "males_data = parole_data[parole_data.male == 1]\n",
    "male_violators = males_data[males_data.violator == 1]\n",
    "prop_male_viol = len(male_violators)/float(n_violators)\n",
    "\n",
    "# The proportion of female parole violators\n",
    "females_data = parole_data[parole_data.male == 0]\n",
    "female_violators = females_data[females_data.violator == 1]\n",
    "prop_female_viol = len(female_violators)/float(n_violators)\n",
    "\n",
    "# Print the results\n",
    "print \"Proportion of male parole violators: {}\".format(prop_male_viol)\n",
    "print \"Proportion of female parole violators: {}\".format(prop_female_viol)"
   ]
  },
  {
   "cell_type": "markdown",
   "metadata": {},
   "source": [
    "#### > Most common crime in Kentucky"
   ]
  },
  {
   "cell_type": "markdown",
   "metadata": {},
   "source": [
    "*Below is just the implementation of a function that returns the most frequent element from a list:* `most_common()`"
   ]
  },
  {
   "cell_type": "code",
   "execution_count": 13,
   "metadata": {
    "collapsed": true
   },
   "outputs": [],
   "source": [
    "import itertools\n",
    "import operator\n",
    "\n",
    "def most_common(L):\n",
    "  # get an iterable of (item, iterable) pairs\n",
    "  SL = sorted((x, i) for i, x in enumerate(L))\n",
    "  # print 'SL:', SL\n",
    "  groups = itertools.groupby(SL, key=operator.itemgetter(0))\n",
    "  # auxiliary function to get \"quality\" for an item\n",
    "  def _auxfun(g):\n",
    "    item, iterable = g\n",
    "    count = 0\n",
    "    min_index = len(L)\n",
    "    for _, where in iterable:\n",
    "      count += 1\n",
    "      min_index = min(min_index, where)\n",
    "    # print 'item %r, count %r, minind %r' % (item, count, min_index)\n",
    "    return count, -min_index\n",
    "  # pick the highest-count/earliest item\n",
    "  return max(groups, key=_auxfun)[0]"
   ]
  },
  {
   "cell_type": "markdown",
   "metadata": {},
   "source": [
    "Computing the most frequent crime in Kentucky   \n",
    "> `crime` values are numerically coded as this:    \n",
    "* 2 is larceny, \n",
    "* 3 is drug-related crime, \n",
    "* 4 is driving-related crime, \n",
    "* and 1 is any other crime.\n"
   ]
  },
  {
   "cell_type": "code",
   "execution_count": 14,
   "metadata": {
    "collapsed": false
   },
   "outputs": [
    {
     "name": "stdout",
     "output_type": "stream",
     "text": [
      "The Most common Crime in Kentucky is a Drug-related crime\n"
     ]
    }
   ],
   "source": [
    "# values computation\n",
    "kentucky_data = parole_data[parole_data.state == 2]\n",
    "most_com_ken_val = most_common(kentucky_data.crime)\n",
    "most_com_ken = ''\n",
    "if most_com_ken_val == 2:\n",
    "    most_com_ken = 'Larceny'\n",
    "elif most_com_ken_val == 3:\n",
    "    most_com_ken = 'Drug-related crime'\n",
    "elif most_com_ken_val == 4:\n",
    "    most_com_ken = 'Driving-related crime'\n",
    "else:\n",
    "    most_com_ken = 'Other crime'\n",
    "\n",
    "# Printing the results\n",
    "print \"The Most common Crime in Kentucky is a {}\".format(most_com_ken)"
   ]
  },
  {
   "cell_type": "markdown",
   "metadata": {},
   "source": [
    "### Exploratory Visualization"
   ]
  },
  {
   "cell_type": "markdown",
   "metadata": {},
   "source": [
    "#### > Age distribution of the parolees"
   ]
  },
  {
   "cell_type": "code",
   "execution_count": 16,
   "metadata": {
    "collapsed": false
   },
   "outputs": [
    {
     "data": {
      "image/png": "[encoded data removed]",
      "text/plain": [
       "<matplotlib.figure.Figure at 0x119041490>"
      ]
     },
     "metadata": {},
     "output_type": "display_data"
    }
   ],
   "source": [
    "import matplotlib.pyplot as plt\n",
    "\n",
    "plt.hist(X_all['age'])\n",
    "plt.title(\"Age distribution of the parolees\")\n",
    "plt.xlabel('Age')\n",
    "plt.ylabel('Frequency')\n",
    "plt.show()"
   ]
  },
  {
   "cell_type": "markdown",
   "metadata": {},
   "source": [
    "As we can see, the first bin in this histogram represents parolees who are between 20 and 24 years old and the last bin represents parolees who are between 65 and 69 years old.  \n",
    "The tallest bar corresponds to the age bracket with the most parolees, which is 20-24 and the shortest bar which is 65-69, corresponds to the age bracket with the least parolees. This seems to be consitent given that old people commit less crime than young people. \n",
    "\n"
   ]
  },
  {
   "cell_type": "markdown",
   "metadata": {},
   "source": [
    "#### > Age distribution with respect to Sex"
   ]
  },
  {
   "cell_type": "code",
   "execution_count": 17,
   "metadata": {
    "collapsed": false
   },
   "outputs": [
    {
     "data": {
      "image/png": "[encoded data removed]",
      "text/plain": [
       "<matplotlib.figure.Figure at 0x11933c710>"
      ]
     },
     "metadata": {},
     "output_type": "display_data"
    }
   ],
   "source": [
    "plt.hist(females_data['age'], alpha=0.5, label=\"Females'Age\")\n",
    "plt.hist(males_data['age'], alpha=0.5, label=\"Males' Age\")\n",
    "plt.legend(loc='upper right')\n",
    "plt.title(\"Age distribution with respect to Sex\")\n",
    "plt.xlabel('Age')\n",
    "plt.ylabel('Frequency')\n",
    "plt.show()"
   ]
  },
  {
   "cell_type": "markdown",
   "metadata": {},
   "source": [
    "The plot above shows how the age distribution of male parolees (green plot) compares to the age distribution of female parolees (blue plot).  \n",
    "Looking at the blue histogram, we can see that the tallest bar corresponds to the age bracket 35-39.   \n",
    "The age bracket with the most female parolees is thus different from that of the most male parolees which is the same as the cumulated one 20-24.  \n",
    "This also seems consistent since there are more male parolees than female as we have already shown by calculating their respective proportion in the statistics section:   \n",
    ">Proportion of male parole violators: 0.820512820513  \n",
    "Proportion of female parole violators: 0.179487179487  \n",
    "\n",
    "If you look at the plot, you can see that there are no female parolees in the age groups 20-22, 55-59, and 65-69 (the bars have height zero)."
   ]
  },
  {
   "cell_type": "markdown",
   "metadata": {},
   "source": [
    "#### > Time Served  \n",
    "Now let's explore another aspect of the data: the amount of time served by parolees. Let's create a basic histogram, but this time with `time.served` on the x-axis, the bin width being one month."
   ]
  },
  {
   "cell_type": "code",
   "execution_count": 18,
   "metadata": {
    "collapsed": false
   },
   "outputs": [
    {
     "data": {
      "image/png": "[encoded data removed]",
      "text/plain": [
       "<matplotlib.figure.Figure at 0x116a08bd0>"
      ]
     },
     "metadata": {},
     "output_type": "display_data"
    }
   ],
   "source": [
    "bins = range(9)\n",
    "plt.hist(X_all['time.served'], bins)\n",
    "plt.xlabel('Time Served')\n",
    "plt.ylabel('Frequency')\n",
    "plt.show()"
   ]
  },
  {
   "cell_type": "markdown",
   "metadata": {},
   "source": [
    "The highest bar corresponds to between 4 and 5 months, so according to the above histogram, most parolees spent between 4 and 5 months. To be more precise, let's reduce the bin size."
   ]
  },
  {
   "cell_type": "code",
   "execution_count": 19,
   "metadata": {
    "collapsed": false
   },
   "outputs": [
    {
     "data": {
      "image/png": "[encoded data removed]",
      "text/plain": [
       "<matplotlib.figure.Figure at 0x11988bc90>"
      ]
     },
     "metadata": {},
     "output_type": "display_data"
    }
   ],
   "source": [
    "bins = np.linspace(0, 6, 100)\n",
    "plt.hist(X_all['time.served'], bins)\n",
    "plt.xlabel('Time Served')\n",
    "plt.ylabel('Frequency')\n",
    "plt.show()"
   ]
  },
  {
   "cell_type": "markdown",
   "metadata": {},
   "source": [
    "Now, the highest bar corresponds to between 3.0 and 3.1 months. We thus have to be very careful when choosing the binwidth since as shown above - it can significantly affect the interpretation of a histogram."
   ]
  },
  {
   "cell_type": "markdown",
   "metadata": {},
   "source": [
    "#### > Time Served With respect to crime type\n",
    "Now we want to visualize the `time.served` per crime type. The crime values are numerically coded as this:    \n",
    "* 2 is larceny, \n",
    "* 3 is drug-related crime, \n",
    "* 4 is driving-related crime, \n",
    "* and 1 is any other crime."
   ]
  },
  {
   "cell_type": "code",
   "execution_count": 21,
   "metadata": {
    "collapsed": false
   },
   "outputs": [
    {
     "data": {
      "image/png": "[encoded data removed]",
      "text/plain": [
       "<matplotlib.figure.Figure at 0x11991db90>"
      ]
     },
     "metadata": {},
     "output_type": "display_data"
    }
   ],
   "source": [
    "# Different type of crimes\n",
    "larceny = X_all[X_all.crime == 2]\n",
    "drug_r = X_all[X_all.crime == 3]\n",
    "driving_r = X_all[X_all.crime == 4]\n",
    "other = X_all[X_all.crime == 1]\n",
    "\n",
    "# Plotting the histograms\n",
    "plt.hist(larceny['time.served'], alpha= 1, label=\"Larceny\")\n",
    "plt.hist(drug_r['time.served'], alpha=0.5, label=\"Drug Related\")\n",
    "plt.hist(driving_r['time.served'], alpha=0.5, label=\"Driving Related\")\n",
    "plt.hist(other['time.served'], alpha=0.5, label=\"Other\")\n",
    "plt.legend(loc='upper left')\n",
    "plt.title(\"Time Served With respect to crime type\")\n",
    "plt.xlabel('Time Served')\n",
    "plt.ylabel('Frequency')\n",
    "plt.show()"
   ]
  },
  {
   "cell_type": "code",
   "execution_count": 22,
   "metadata": {
    "collapsed": false
   },
   "outputs": [
    {
     "data": {
      "image/png": "[encoded data removed]",
      "text/plain": [
       "<matplotlib.figure.Figure at 0x11a0288d0>"
      ]
     },
     "metadata": {},
     "output_type": "display_data"
    }
   ],
   "source": [
    "%matplotlib inline\n",
    "import seaborn as sns\n",
    "sns.factorplot(\"time.served\", col=\"crime\", data=parole_data, kind='count');"
   ]
  },
  {
   "cell_type": "markdown",
   "metadata": {},
   "source": [
    "The histograms above show many facts among which are:\n",
    "- the fact that driving-related crimes have no observations where time served is less than one month. This means according to our dataset, that the time served for driving related cars is usually more than a month \n",
    "\n",
    "- the fact that for drug-related crimes, the 5-6 month prison terms' fequencies exceed the frequencies of the other crime types' term length (if we ignore the crime type Other). This means that generally you serve more time for drug-related crimes."
   ]
  },
  {
   "cell_type": "markdown",
   "metadata": {},
   "source": [
    "#### > Violators by state"
   ]
  },
  {
   "cell_type": "code",
   "execution_count": 23,
   "metadata": {
    "collapsed": false,
    "scrolled": true
   },
   "outputs": [
    {
     "data": {
      "image/png": "[encoded data removed]",
      "text/plain": [
       "<matplotlib.figure.Figure at 0x11a541f50>"
      ]
     },
     "metadata": {},
     "output_type": "display_data"
    }
   ],
   "source": [
    "%matplotlib inline\n",
    "import seaborn as sns\n",
    "sns.factorplot(\"state\", col=\"male\", data=parole_data, hue='violator', kind='count');"
   ]
  },
  {
   "cell_type": "markdown",
   "metadata": {},
   "source": [
    "The histograms above show the crime violators per state and per sex. We can see that parolees from a state like `Virginia (coding = 4)` rarely violate their parole and that almost `50%` of parolees from a state like `Louisiana (coding = 3)` always violate their parole."
   ]
  },
  {
   "cell_type": "markdown",
   "metadata": {},
   "source": [
    "### Algorithms and Techniques\n",
    "For this project we will be using `Logistic Regression` to build our model. `Logistic Regression` models are a good fit for this particular problem because they are used to predict categorical outcomes from prediction variables that are continuous and/or categorical, unlike normal regression where having a categorical outcome violates the linearity assumption.  \n",
    "`Logistic regression` deals with this problem by using a\n",
    "logarithmic transformation on the outcome variable which allows us to model a nonlinear association in a linear way.  It expresses the linear regression equation in logarithmic terms (called the logit).  \n",
    "The only real limitation of logistic regression is that the outcome variable must be discrete.   \n",
    "Assumptions made by logistic regression models are :  \n",
    "- Absence of multicollinearity \n",
    "- Absence of outliers \n",
    "- Independence of errors  \n",
    "\n",
    "All of which we can assume for our parolees.  "
   ]
  },
  {
   "cell_type": "markdown",
   "metadata": {},
   "source": [
    "### Benchmark\n",
    "Our benchmark for this project will be the `Accuracy score` of our baseline model; our target model will have to outperform our baseline model for it to start to become useful for our purpose of predicting parole violators."
   ]
  },
  {
   "cell_type": "markdown",
   "metadata": {},
   "source": [
    "## III. Methodology"
   ]
  },
  {
   "cell_type": "markdown",
   "metadata": {},
   "source": [
    "### Data Preprocessing  \n",
    "Our dataset were clearly structured; all preprocessing measures we had to take were:  \n",
    "- seperating it into a `Feature group (dataframe containing all prediction variables)` and a `Target column (column containing all the values of the target variable)`, \n",
    "- identifying unordered factors like -- male, race, state and violator -- and removing those with 3 or more levels.  \n",
    "\n",
    "It did not need any other preprocessing which gave us more time to focus on visualizing it and extracting some useful informations from it."
   ]
  },
  {
   "cell_type": "markdown",
   "metadata": {},
   "source": [
    "### Implementation\n"
   ]
  },
  {
   "cell_type": "markdown",
   "metadata": {},
   "source": [
    "#### > Dealing with unordered factors  \n",
    "As identified in the `Data Preprocessing` subsection, there are 4 unordered factors in our dataset -- `male`, `race`, `state` and `violator` -- since  only `state` and `crime` have at least 3 levels in the dataset, they are the ones we will need to convert into factors for our prediction problem."
   ]
  },
  {
   "cell_type": "code",
   "execution_count": 25,
   "metadata": {
    "collapsed": false
   },
   "outputs": [],
   "source": [
    "# Converting variables state and crime to factors\n",
    "parole_data['state'] = parole_data['state'].astype(object)\n",
    "parole_data['crime'] = parole_data['crime'].astype(object)"
   ]
  },
  {
   "cell_type": "markdown",
   "metadata": {},
   "source": [
    "#### >  Training and Testing Data Split\n",
    "For the next step, we split the data (both features and corresponding labels) into training and test sets. In the code cell below, we did the following implementions:\n",
    "- Randomly shuffle and split the data (`X_all`, `y_all`) into training and testing subsets.\n",
    "  - Used 70% of the data for training points and 30% for testing points.\n",
    "  - Set a `random_state` for the `train_test_split` function from the `sklearn.cross_validation` library.\n",
    "  - Stored the results in `X_train`, `X_test`, `y_train`, and `y_test`.  \n",
    "\n",
    "Also, the main characteristics of our dataset are as computed above (in the statistics section):  \n",
    ">Total number of parolees: 675  \n",
    "Number of features: 8  \n",
    "Number of parolees who violated parole: 78  \n",
    "Number of parolees who did not violate parole: 597  \n",
    "Parole violation rate: 11.56%  \n",
    "\n",
    "As we can see, our dataset is small and slightly unbalanced (There are less parole violators than non parole violators. Even though it is only necessary in the case of heavily unbalanced datasets, we chose here to address the unbalanced nature of our dataset with S`tratified K-fold` and `Stratified cross-validation` as stratification is preserving the percentage of samples for each class. To implement this we set the parameter `stratify = y_all`\n",
    "\n"
   ]
  },
  {
   "cell_type": "code",
   "execution_count": 32,
   "metadata": {
    "collapsed": false
   },
   "outputs": [
    {
     "name": "stdout",
     "output_type": "stream",
     "text": [
      "Training set has 472 samples.\n",
      "Testing set has 203 samples.\n"
     ]
    }
   ],
   "source": [
    "# Import train_test_split function\n",
    "from sklearn.cross_validation import train_test_split\n",
    "\n",
    "# Shuffle and split the dataset into training(70%) and testing points(30%) \n",
    "X_train, X_test, y_train, y_test = train_test_split(X_all, y_all, stratify = y_all, test_size=.30, random_state=144)\n",
    "\n",
    "# Show the results of the split\n",
    "print \"Training set has {} samples.\".format(X_train.shape[0])\n",
    "print \"Testing set has {} samples.\".format(X_test.shape[0])"
   ]
  },
  {
   "cell_type": "markdown",
   "metadata": {},
   "source": [
    "Let's now check if by setting the `stratify` parameter above, we managed to obtain the same proportion of parole violation rate in the train set as in the test set."
   ]
  },
  {
   "cell_type": "code",
   "execution_count": 28,
   "metadata": {
    "collapsed": false
   },
   "outputs": [
    {
     "name": "stdout",
     "output_type": "stream",
     "text": [
      "Parole violation rate of train set: 11.65%\n",
      "Parole violation rate of test set: 11.33%\n"
     ]
    }
   ],
   "source": [
    "print \"Parole violation rate of train set: {:.2f}%\".format(100*(y_train == 1).mean())\n",
    "print \"Parole violation rate of test set: {:.2f}%\".format(100*(y_test == 1).mean())"
   ]
  },
  {
   "cell_type": "markdown",
   "metadata": {},
   "source": [
    "The above print statements show that stratifying helps us maintain the class imbalance across both the training and the testing sets. "
   ]
  },
  {
   "cell_type": "markdown",
   "metadata": {},
   "source": [
    "####  >  Building a Baseline Model `(to serve as a benchmark)`"
   ]
  },
  {
   "cell_type": "markdown",
   "metadata": {},
   "source": [
    "Since there are far more non violators, let's set our baseline model to be one predicting that every parolee is a non violator. The code below calculates its accuracy."
   ]
  },
  {
   "cell_type": "code",
   "execution_count": 33,
   "metadata": {
    "collapsed": false
   },
   "outputs": [
    {
     "data": {
      "text/plain": [
       "'The accuracy of a simple model that predicts that every parolee is a non-violator is 0.886699507389'"
      ]
     },
     "execution_count": 33,
     "metadata": {},
     "output_type": "execute_result"
    }
   ],
   "source": [
    "test_non_violators = len(y_test[y_test == 0])\n",
    "\n",
    "(\"The accuracy of a simple model that predicts that every parolee is a non-violator is {}\".format(\n",
    "                                                            test_non_violators/float(len(y_test))))"
   ]
  },
  {
   "cell_type": "markdown",
   "metadata": {},
   "source": [
    "The accuracy of this baseline model is very high and although the model itself is unuseful we will need to find a model with an accuracy at least as high but that can tell apart non-violators from violators meaning its Are Under Curve (AUC) will have to significant. Let's try to compute the AUC for our baseline model."
   ]
  },
  {
   "cell_type": "code",
   "execution_count": 34,
   "metadata": {
    "collapsed": false
   },
   "outputs": [
    {
     "data": {
      "text/plain": [
       "0.5"
      ]
     },
     "execution_count": 34,
     "metadata": {},
     "output_type": "execute_result"
    }
   ],
   "source": [
    "from sklearn import metrics\n",
    "# Prediction of baseline model -- All parolees are non violators\n",
    "pred = np.zeros((len(y_test),), dtype=np.int)\n",
    "\n",
    "# Computing the AUC\n",
    "fpr, tpr, thresholds = metrics.roc_curve(y_test, pred, pos_label=1)\n",
    "metrics.auc(fpr, tpr)"
   ]
  },
  {
   "cell_type": "markdown",
   "metadata": {},
   "source": [
    "The result is 0.5 -- our baseline model is thus completely unable to tell apart a non violator from a violator."
   ]
  },
  {
   "cell_type": "markdown",
   "metadata": {},
   "source": [
    "#### > Building a Logistic Regression Model\n",
    "\n"
   ]
  },
  {
   "cell_type": "markdown",
   "metadata": {},
   "source": [
    "Here are some helper functions for what's to follow"
   ]
  },
  {
   "cell_type": "code",
   "execution_count": 38,
   "metadata": {
    "collapsed": true
   },
   "outputs": [],
   "source": [
    "# Helper functions \n",
    "def train_classifier(clf, X_train, y_train):\n",
    "    ''' Fits a classifier to the training data. '''\n",
    "    \n",
    "    # Train the classifier\n",
    "    mdl = clf.fit(X_train, y_train)\n",
    "    \n",
    "def predict_labels(clf, features, target):\n",
    "    ''' Makes predictions using a fit classifier based on F1 score. '''\n",
    "    \n",
    "    # Make predictions\n",
    "    y_pred = clf.predict(features)\n",
    "    \n",
    "    # Rreturn results\n",
    "    return f1_score(target.values, y_pred, pos_label= 1 )\n",
    "\n",
    "\n",
    "def train_predict(clf, X_train, y_train, X_test, y_test):\n",
    "    ''' Train and predict using a classifer based on F1 score. '''\n",
    "    \n",
    "    # Indicate the classifier and the training set size\n",
    "    print \"Training a {} using a training set size of {}. . .\".format(clf.__class__.__name__, len(X_train))\n",
    "    \n",
    "    # Train the classifier\n",
    "    train_classifier(clf, X_train, y_train)\n",
    "    \n",
    "    # Print the results of prediction for both training and testing\n",
    "    print \"F1 score for training set: {:.4f}.\".format(predict_labels(clf, X_train, y_train))\n",
    "    print \"F1 score for test set: {:.4f}.\".format(predict_labels(clf, X_test, y_test))"
   ]
  },
  {
   "cell_type": "markdown",
   "metadata": {},
   "source": [
    "With the predefined functions above, we will now import the Logistic Regression learning model and run the train_predict function for it. To see how well it does on multiple training set sizes will also train and predict on it for five different training set sizes: 100 to 500. "
   ]
  },
  {
   "cell_type": "code",
   "execution_count": 101,
   "metadata": {
    "collapsed": false
   },
   "outputs": [
    {
     "name": "stdout",
     "output_type": "stream",
     "text": [
      "Training a LogisticRegression using a training set size of 100. . .\n",
      "F1 score for training set: 0.4348.\n",
      "F1 score for test set: 0.3243.\n",
      "Training a LogisticRegression using a training set size of 200. . .\n",
      "F1 score for training set: 0.3590.\n",
      "F1 score for test set: 0.2759.\n",
      "Training a LogisticRegression using a training set size of 300. . .\n",
      "F1 score for training set: 0.1395.\n",
      "F1 score for test set: 0.0769.\n",
      "Training a LogisticRegression using a training set size of 400. . .\n",
      "F1 score for training set: 0.0727.\n",
      "F1 score for test set: 0.0800.\n",
      "Training a LogisticRegression using a training set size of 472. . .\n",
      "F1 score for training set: 0.0667.\n",
      "F1 score for test set: 0.0800.\n"
     ]
    }
   ],
   "source": [
    "# Import LogisticRegression Model\n",
    "from sklearn.linear_model import LogisticRegression\n",
    "\n",
    "# Model Initialisation\n",
    "clf = LogisticRegression(random_state = 0)\n",
    "\n",
    "# Loop through train sizes\n",
    "for n in [100, 200, 300, 400, 500]:\n",
    "    train_predict(clf, X_train[:n], y_train[:n], X_test, y_test)"
   ]
  },
  {
   "cell_type": "markdown",
   "metadata": {},
   "source": [
    " *Classifer - LogisticRegression*  \n",
    "\n",
    "| Train set size    | F1 Score (train)         |   F1 Score (test)       |\n",
    "| :---------------: | :---------------------: | :---------------------: | \n",
    "| 100               |       0.4348            |       0.3243            | \n",
    "| 200               |       0.3590            |       0.2759            | \n",
    "| 300               |       0.1395            |       0.0769            | \n",
    "| 400               |       0.0727            |       0.0800            | \n",
    "| 500               |       0.0667            |       0.0800            | \n"
   ]
  },
  {
   "cell_type": "markdown",
   "metadata": {},
   "source": [
    "The F1 Score tends to decrease both on the train and test sets, as we increase the Train size. To get a closer look at how the model is predicting the label, let's plot a confusion matrix."
   ]
  },
  {
   "cell_type": "code",
   "execution_count": 201,
   "metadata": {
    "collapsed": false
   },
   "outputs": [
    {
     "data": {
      "image/png": "[encoded data removed]",
      "text/plain": [
       "<matplotlib.figure.Figure at 0x121d85ad0>"
      ]
     },
     "metadata": {},
     "output_type": "display_data"
    }
   ],
   "source": [
    "from sklearn.metrics import confusion_matrix\n",
    "import seaborn as sns\n",
    "%matplotlib inline\n",
    "\n",
    "# Compute confusion matrix for the model\n",
    "cm = confusion_matrix(y_test.values, clf.predict(X_test))\n",
    "\n",
    "# View with a heatmap\n",
    "sns.heatmap(cm, annot = True, cmap='Blues', xticklabels=['no','yes'], yticklabels=['no','yes'])\n",
    "plt.ylabel('True Label')\n",
    "plt.xlabel('Predicted Label')\n",
    "plt.title('Confusion matrix for {}'.format(clf.__class__.__name__));"
   ]
  },
  {
   "cell_type": "markdown",
   "metadata": {},
   "source": [
    "There are 203 observations in the test set. The accuracy (percentage of values on the diagonal) is $\\frac{180+1}{203} = 0.891$.   \n",
    "The sensitivity (proportion of the actual violators we got correct) is $\\frac{1}{1+22} = 0.04$,  \n",
    "and the specificity (proportion of the actual non-violators we got correct) is $\\frac{180}{180+1} = 0.994    $."
   ]
  },
  {
   "cell_type": "markdown",
   "metadata": {},
   "source": [
    "The accuracy of this model is bigger than that of our baseline model which was 0.886. This model is thus better. Let's compute its AUC then:  "
   ]
  },
  {
   "cell_type": "code",
   "execution_count": 218,
   "metadata": {
    "collapsed": false
   },
   "outputs": [
    {
     "data": {
      "text/plain": [
       "0.51896135265700483"
      ]
     },
     "execution_count": 218,
     "metadata": {},
     "output_type": "execute_result"
    }
   ],
   "source": [
    "# Computing the AUC\n",
    "fpr, tpr, thresholds = metrics.roc_curve(y_test, clf.predict(X_test), pos_label=1)\n",
    "metrics.auc(fpr, tpr)"
   ]
  },
  {
   "cell_type": "markdown",
   "metadata": {},
   "source": [
    "We notice a slight improvement over the AUC of the baseline which was 0.50"
   ]
  },
  {
   "cell_type": "markdown",
   "metadata": {},
   "source": [
    "Let's consider a parole board using this model to predict whether parolees will be violators or not. The job of a parole board is to make sure that a prisoner is ready to be released into free society, and therefore parole boards tend to be particularily concerned about releasing prisoners who will violate their parole. It is more likely that the board assigns more cost to a false negative than a false positive and since this model has a huge rate of false negatives (22/23) it is unuseful for a parole board."
   ]
  },
  {
   "cell_type": "markdown",
   "metadata": {},
   "source": [
    "### Refinement\n",
    "Let's try tuning the model using grid search (`GridSearchCV`). We will need to use the entire training set for this. In the code cell below, we implement the following:\n",
    "- Import [`sklearn.grid_search.gridSearchCV`](http://scikit-learn.org/stable/modules/generated/sklearn.grid_search.GridSearchCV.html) and [`sklearn.metrics.make_scorer`](http://scikit-learn.org/stable/modules/generated/sklearn.metrics.make_scorer.html).\n",
    "- Create a dictionary of parameters to tune for the model.\n",
    " - Example: `parameters = {'parameter' : [list of values]}`.\n",
    "- Initialize the classifier and store it in `clf`.\n",
    "- Create the F<sub>1</sub> scoring function using `make_scorer` and store it in `f1_scorer`.\n",
    " - Set the `pos_label` parameter to the correct value!\n",
    "- Perform grid search on the classifier `clf` using `f1_scorer` as the scoring method, and store it in `grid_obj`.\n",
    "- Fit the grid search object to the training data (`X_train`, `y_train`), and store it in `grid_obj`."
   ]
  },
  {
   "cell_type": "code",
   "execution_count": 108,
   "metadata": {
    "collapsed": false
   },
   "outputs": [
    {
     "name": "stdout",
     "output_type": "stream",
     "text": [
      "Tuned model has a training F1 score of 0.0952.\n",
      "Tuned model has a testing F1 score of 0.1538.\n"
     ]
    }
   ],
   "source": [
    "# Import 'GridSearchCV' and 'make_scorer'\n",
    "from sklearn.grid_search import GridSearchCV\n",
    "from sklearn.metrics import make_scorer\n",
    "\n",
    "# Create the parameters list to tune\n",
    "parameters = {'C':[0.001, 0.01, 0.1, 1, 10, 100, 1000]}\n",
    "\n",
    "# Initialize the classifier\n",
    "clf = LogisticRegression(random_state = 7)\n",
    "\n",
    "# Make an f1 scoring function using 'make_scorer' \n",
    "f1_scorer = make_scorer(f1_score, pos_label = 1)\n",
    "\n",
    "# Perform grid search on the classifier using the f1_scorer as the scoring method\n",
    "grid_obj = GridSearchCV(estimator=clf, param_grid=parameters, scoring=f1_scorer)\n",
    "\n",
    "# Fit the grid search object to the training data and find the optimal parameters\n",
    "grid_obj = grid_obj.fit(X_train,y_train)\n",
    "\n",
    "# Get the estimator\n",
    "clf = grid_obj.best_estimator_\n",
    "\n",
    "# Report the final F1 score for training and testing after parameter tuning\n",
    "print \"Tuned model has a training F1 score of {:.4f}.\".format(predict_labels(clf, X_train, y_train))\n",
    "print \"Tuned model has a testing F1 score of {:.4f}.\".format(predict_labels(clf, X_test, y_test))"
   ]
  },
  {
   "cell_type": "markdown",
   "metadata": {},
   "source": [
    "## IV. Results  \n",
    "### Model Evaluation and Validation"
   ]
  },
  {
   "cell_type": "markdown",
   "metadata": {},
   "source": [
    "Let's now see how well our tuned model does on multiple training set sizes ranging from 100 to 500"
   ]
  },
  {
   "cell_type": "code",
   "execution_count": 109,
   "metadata": {
    "collapsed": false
   },
   "outputs": [
    {
     "name": "stdout",
     "output_type": "stream",
     "text": [
      "Training a LogisticRegression using a training set size of 100. . .\n",
      "F1 score for training set: 0.4444.\n",
      "F1 score for test set: 0.4651.\n",
      "Training a LogisticRegression using a training set size of 200. . .\n",
      "F1 score for training set: 0.3500.\n",
      "F1 score for test set: 0.3030.\n",
      "Training a LogisticRegression using a training set size of 300. . .\n",
      "F1 score for training set: 0.1667.\n",
      "F1 score for test set: 0.2581.\n",
      "Training a LogisticRegression using a training set size of 400. . .\n",
      "F1 score for training set: 0.0727.\n",
      "F1 score for test set: 0.0800.\n",
      "Training a LogisticRegression using a training set size of 472. . .\n",
      "F1 score for training set: 0.0952.\n",
      "F1 score for test set: 0.1538.\n"
     ]
    }
   ],
   "source": [
    "# Loop through train sizes\n",
    "for n in [100, 200, 300, 400, 500]:\n",
    "    train_predict(clf, X_train[:n], y_train[:n], X_test, y_test)"
   ]
  },
  {
   "cell_type": "markdown",
   "metadata": {},
   "source": [
    " *Classifer - LogisticRegression*  _Untuned_\n",
    "\n",
    "| Train set size    | F1 Score (train)         |   F1 Score (test)       |\n",
    "| :---------------: | :---------------------: | :---------------------: | \n",
    "| 100               |       0.4348            |       0.3243            | \n",
    "| 200               |       0.3590            |       0.2759            | \n",
    "| 300               |       0.1395            |       0.0769            | \n",
    "| 400               |       0.0727            |       0.0800            | \n",
    "| 500               |       0.0667            |       0.0800            | \n",
    "\n",
    "*Classifer - LogisticRegression*  _Tuned_\n",
    "\n",
    "| Train set size    | F1 Score (train)         |   F1 Score (test)       |\n",
    "| :---------------: | :---------------------: | :---------------------: | \n",
    "| 100               |       0.4444            |       0.4651            | \n",
    "| 200               |       0.3500            |       0.3030            | \n",
    "| 300               |       0.1667            |       0.2581            | \n",
    "| 400               |       0.0727            |       0.0800            | \n",
    "| 500               |       0.0952            |       0.1538            | \n"
   ]
  },
  {
   "cell_type": "markdown",
   "metadata": {},
   "source": [
    "There has obviously been some improvements in the results; let's check this fact by also computing the Area under Curve (AUC) for our tuned model."
   ]
  },
  {
   "cell_type": "code",
   "execution_count": 222,
   "metadata": {
    "collapsed": false
   },
   "outputs": [
    {
     "data": {
      "text/plain": [
       "0.54070048309178742"
      ]
     },
     "execution_count": 222,
     "metadata": {},
     "output_type": "execute_result"
    }
   ],
   "source": [
    "# Computing the AUC\n",
    "fpr, tpr, thresholds = metrics.roc_curve(y_test, clf.predict(X_test), pos_label=1)\n",
    "metrics.auc(fpr, tpr)"
   ]
  },
  {
   "cell_type": "markdown",
   "metadata": {},
   "source": [
    "There is in fact a slight improvement but the model still performs poorly when it comes to predicting violators"
   ]
  },
  {
   "cell_type": "markdown",
   "metadata": {},
   "source": [
    "The final model's F<sub>1</sub> score is 0.0952 for the training set which is bigger than that of the untuned model on a training set of this size   \n",
    "The final model's F<sub>1</sub> score is 0.1538 for the testing set which is also bigger than that of the untuned model a training set of this size "
   ]
  },
  {
   "cell_type": "markdown",
   "metadata": {},
   "source": [
    "### Justification  \n",
    "We noticed a slight improvement over the AUC of the baseline which was 0.50.  \n",
    "If a parole board used the model for parole decisions, a negative prediction would lead to a prisoner being granted parole, while a positive prediction would lead to a prisoner being denied parole. The parole board would experience more regret for releasing a prisoner who then violates parole (a negative prediction that is actually positive, or false negative) than it would experience for denying parole to a prisoner who would not have violated parole (a positive prediction that is actually negative, or false positive)."
   ]
  },
  {
   "cell_type": "markdown",
   "metadata": {},
   "source": [
    "## V. Conclusion"
   ]
  },
  {
   "cell_type": "markdown",
   "metadata": {},
   "source": [
    "### Free-Form Visualization"
   ]
  },
  {
   "cell_type": "code",
   "execution_count": 223,
   "metadata": {
    "collapsed": false
   },
   "outputs": [
    {
     "data": {
      "image/png": "[encoded data removed]",
      "text/plain": [
       "<matplotlib.figure.Figure at 0x1243baed0>"
      ]
     },
     "metadata": {},
     "output_type": "display_data"
    }
   ],
   "source": [
    "from sklearn.metrics import confusion_matrix\n",
    "import seaborn as sns\n",
    "%matplotlib inline\n",
    "\n",
    "# Compute confusion matrix for the model\n",
    "cm = confusion_matrix(y_test.values, clf.predict(X_test))\n",
    "\n",
    "# View with a heatmap\n",
    "sns.heatmap(cm, annot = True, cmap='Blues', xticklabels=['no','yes'], yticklabels=['no','yes'])\n",
    "plt.ylabel('True Label')\n",
    "plt.xlabel('Predicted Label')\n",
    "plt.title('Confusion matrix for {}'.format(clf.__class__.__name__));"
   ]
  },
  {
   "cell_type": "markdown",
   "metadata": {},
   "source": [
    "### Reflection  \n",
    "In this project, we have gone from a basic and naive model that predicts all parolees are not going to violate parole to a less naive Logistic Regression model with a bigger accuracy, F1 score and AUC.  \n",
    "One particular aspect of the project was the visualisation part, how plotting certain variables one against each other can provide cues and intel into a dataset and how some visualisations could also be misleading.   \n",
    "Apart from that, it has been nice to start with a basic model and to watch that model evolve overtime, becoming more and more able to predict our outcome variable."
   ]
  },
  {
   "cell_type": "markdown",
   "metadata": {},
   "source": [
    "### Improvement"
   ]
  },
  {
   "cell_type": "markdown",
   "metadata": {},
   "source": [
    "\n",
    "This model has a much higher specificity than sensitivity, meaning it does a better job predicting parolees who are not going to violate parole. Since we want to be confident a parolee won't violate parole before we release him, we can expect more from its ability to predict parolees who are going to violate parole.  \n",
    "To further improve the model, we can consider actually going well beyond grid search and implement ‘pipelines’ where the whole machine learning process becomes 'grid-searchable' and we can parameterize and search the whole process though cross validation. We can also try out several algorithms automatically!"
   ]
  }
 ],
 "metadata": {
  "kernelspec": {
   "display_name": "Python [default]",
   "language": "python",
   "name": "python3"
  },
  "language_info": {
   "codemirror_mode": {
    "name": "ipython",
    "version": 3
   },
   "file_extension": ".py",
   "mimetype": "text/x-python",
   "name": "python",
   "nbconvert_exporter": "python",
   "pygments_lexer": "ipython3",
   "version": "3.5.2"
  }
 },
 "nbformat": 4,
 "nbformat_minor": 0
}
